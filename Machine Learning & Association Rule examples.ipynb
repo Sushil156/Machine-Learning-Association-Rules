{
  "nbformat": 4,
  "nbformat_minor": 0,
  "metadata": {
    "kernelspec": {
      "name": "python3",
      "display_name": "Python 3"
    },
    "colab": {
      "provenance": [],
      "include_colab_link": true
    }
  },
  "cells": [
    {
      "cell_type": "markdown",
      "metadata": {
        "id": "view-in-github",
        "colab_type": "text"
      },
      "source": [
        "<a href=\"https://colab.research.google.com/github/Sushil156/Machine-Learning-Association-Rules/blob/main/Machine%20Learning%20%26%20Association%20Rule%20examples.ipynb\" target=\"_parent\"><img src=\"https://colab.research.google.com/assets/colab-badge.svg\" alt=\"Open In Colab\"/></a>"
      ]
    },
    {
      "cell_type": "markdown",
      "metadata": {
        "id": "HKmorPdno_n_"
      },
      "source": [
        "# MMA/GMMA/MMAI 869: Individual Assignment\n",
        "\n",
        "Version 1: Updated September 27, 2021\n",
        "\n",
        "- [Sushil, Megharaj]\n",
        "- [20253709]\n",
        "- [Section 2]\n",
        "- [Ravan & Eddie]\n",
        "- [12th Dec, 2021]"
      ]
    },
    {
      "cell_type": "markdown",
      "source": [
        "### Link to the Google Collab: \n",
        "https://colab.research.google.com/drive/1BMFUH-gWSkGvjGOl2U2S9HBV85O2QYdD?usp=sharing"
      ],
      "metadata": {
        "id": "S6SgPM56RV0R"
      }
    },
    {
      "cell_type": "markdown",
      "metadata": {
        "id": "emfFtv4aHBI1"
      },
      "source": [
        "# Assignment Instructions\n",
        "\n",
        "This assignment contains four questions. The questions are fully contained in this Google Colab Notebook. \n",
        "\n",
        "You are to make a copy of this Notebook and edit the copy to provide your answers. You are to complete the assignment entirely within Google Colab. Why?\n",
        "\n",
        "- It gives you practice using cloud-based interactive notebook environments (which is a popular workflow)\n",
        "- It is easier for you to manage the environment (e.g., installing packages, etc.)\n",
        "- Google Colab has nice, beefy machines, so you don't have to worry about running out of memory on your local computer.\n",
        "- It will be easier for the TA to help you debug your code if you need help\n",
        "- It will be easier for the TA to mark/run your code\n",
        "\n",
        "Some parts of this assigment require you to write code. Use Python or R. For Python, you may use standard Python libraries, including `scikit-learn`, `pandas`, `numpy`, and `scipy`. For R, you may use `dplyr`, `caret`, `ggplot2`, `rpart` and other standard libraries.\n",
        "\n",
        "Some parts of this assignment require text responses. In these cases, type your response in the Notebook cell indicated. Use English. Use proper grammar, spelling, and punctuation. Be professional and clear. Be complete, but not overly-verbose. Feel free to use [Markdown syntax](https://www.markdownguide.org/basic-syntax/) to format your answer (i.e., add bold, italics, lists, tables).\n",
        "\n",
        "## What to Submit to the Course Portal\n",
        "\n",
        "- Export your completed Notebook as a PDF file by clicking File->Print->Save as PDF.\n",
        "- Please do not submit the Notebook file (`.ipynb`) to the course portal. \n",
        "- Please submit the PDF export of the Notebook. \n",
        "   - Please name the PDF file `2022_869_FirstnameLastName.pdf`\n",
        "      - E.g., `2022_869_StephenThomas.pdf`\n",
        "   - Please make sure you have run all the cells so we can see the output!\n",
        "   - Best practice: Before exporting to PDF click Runtime->Restart and run all.\n",
        "\n"
      ]
    },
    {
      "cell_type": "markdown",
      "metadata": {
        "id": "oZFTCX4DqmRO"
      },
      "source": [
        "# Preliminaries: Inspect and Set up environment\n",
        "\n",
        "No action is required on your part in this section. These cells print out helpful information about the environment, just in case."
      ]
    },
    {
      "cell_type": "code",
      "metadata": {
        "id": "xj34Jz-Do_oK"
      },
      "source": [
        "import datetime\n",
        "import pandas as pd\n",
        "import numpy as np"
      ],
      "execution_count": null,
      "outputs": []
    },
    {
      "cell_type": "code",
      "metadata": {
        "id": "mqQ_XOKyXTS6",
        "colab": {
          "base_uri": "https://localhost:8080/"
        },
        "outputId": "07b3f72e-cd73-442b-f6cb-2429a2b96a57"
      },
      "source": [
        "print(datetime.datetime.now())"
      ],
      "execution_count": null,
      "outputs": [
        {
          "output_type": "stream",
          "name": "stdout",
          "text": [
            "2021-12-12 19:32:26.731750\n"
          ]
        }
      ]
    },
    {
      "cell_type": "code",
      "metadata": {
        "colab": {
          "base_uri": "https://localhost:8080/"
        },
        "id": "LfOMt1lErLhZ",
        "outputId": "9df9c587-f88e-4f2c-a40a-0203a40427d3"
      },
      "source": [
        "!which python"
      ],
      "execution_count": null,
      "outputs": [
        {
          "output_type": "stream",
          "name": "stdout",
          "text": [
            "/usr/local/bin/python\n"
          ]
        }
      ]
    },
    {
      "cell_type": "code",
      "metadata": {
        "colab": {
          "base_uri": "https://localhost:8080/"
        },
        "id": "aub2w1-arM5K",
        "outputId": "e1a9ce83-0c8e-457e-e1cc-ec6564189d5a"
      },
      "source": [
        "!python --version"
      ],
      "execution_count": null,
      "outputs": [
        {
          "output_type": "stream",
          "name": "stdout",
          "text": [
            "Python 3.7.12\n"
          ]
        }
      ]
    },
    {
      "cell_type": "code",
      "metadata": {
        "colab": {
          "base_uri": "https://localhost:8080/"
        },
        "id": "E9Y_n_8UrO9i",
        "outputId": "92f15094-6f6c-4ffb-8b6a-49d4ef9e9c23"
      },
      "source": [
        "!echo $PYTHONPATH"
      ],
      "execution_count": null,
      "outputs": [
        {
          "output_type": "stream",
          "name": "stdout",
          "text": [
            "/env/python\n"
          ]
        }
      ]
    },
    {
      "cell_type": "code",
      "metadata": {
        "id": "-qyD7Jl0Gw1E"
      },
      "source": [
        "# TODO: install any packages you need to here. For example:\n",
        "#pip install unidecode"
      ],
      "execution_count": null,
      "outputs": []
    },
    {
      "cell_type": "markdown",
      "metadata": {
        "id": "RLlBjIyS2o54"
      },
      "source": [
        "# Question 1: Uncle Steve's Diamonds"
      ]
    },
    {
      "cell_type": "markdown",
      "metadata": {
        "id": "qj1NSQelo_oN"
      },
      "source": [
        "## Instructions\n",
        "\n",
        "You work at a local jewelry store named *Uncle Steve's Diamonds*. You started as a janitor, but you’ve recently been promoted to senior data analyst! Congratulations.\n",
        "\n",
        "Uncle Steve, the store's owner, needs to better understand the store's customers. In particular, he wants to know what kind of customers shop at the store. He wants to know the main types of *customer personas*. Once he knows these, he will contemplate ways to better market to each persona, better satisfy each persona, better cater to each persona, increase the loyalty of each persona, etc. But first, he must know the personas.\n",
        "\n",
        "You want to help Uncle Steve. Using sneaky magic (and the help of Environics), you've collected four useful features for a subset of the customers: age, income, spending score (i.e., a score based on how much they’ve spent at the store in total), and savings (i.e., how much money they have in their personal bank account). \n",
        "\n",
        "**Your tasks**\n",
        "\n",
        "1. Pick a clustering algorithm (the [`sklearn.cluster`](https://scikit-learn.org/stable/modules/classes.html#module-sklearn.cluster) module has many good choices, including [`KMeans`](https://scikit-learn.org/stable/modules/generated/sklearn.cluster.KMeans.html#sklearn.cluster.KMeans), [`DBSCAN`](https://scikit-learn.org/stable/modules/generated/sklearn.cluster.DBSCAN.html#sklearn.cluster.DBSCAN), and [`AgglomerativeClustering`](https://scikit-learn.org/stable/modules/generated/sklearn.cluster.AgglomerativeClustering.html#sklearn.cluster.AgglomerativeClustering) (aka Hierarchical)). (Note that another popular implementation of the hierarchical algorithm can be found in SciPy's [`scipy.cluster.hierarchy.linkage`](https://docs.scipy.org/doc/scipy/reference/generated/scipy.cluster.hierarchy.linkage.html).) Don't spend a lot of time thinking about which algorithm to choose - just pick one. Cluster the customers as best as you can, within reason. That is, try different feature preprocessing steps, hyperparameter values, and/or distance metrics. You don't need to try every posssible combination, but try a few at least. Measure how good each  model configuration is by calculating an internal validation metric (e.g., [`calinski_harabasz_score`](https://scikit-learn.org/stable/modules/generated/sklearn.metrics.calinski_harabasz_score.html) or [`silhouette_score`](https://scikit-learn.org/stable/modules/generated/sklearn.metrics.silhouette_score.html#sklearn.metrics.silhouette_score)).\n",
        "2. You have some doubts - you're not sure if the algorithm you chose in part 1 is the best algorithm for this dataset/problem. Neither is Uncle Steve. So, choose a different algorithm (any!) and do it all again.\n",
        "3. Which clustering algorithm is \"better\" in this case? Think about charateristics of the algorithm like quality of results, ease of use, speed, interpretability, etc. Choose a \"winner\" and justify to Uncle Steve.\n",
        "4. Interpret the clusters of the winning model. That is, describe, in words, a *persona* that accurately depicts each cluster. Use statistics (e.g., cluster means/distributions), examples (e.g., exemplar instances from each cluster), and/or visualizations (e.g., relative importance plots, snakeplots) to get started. Human judgement and creativity will be necessary. This is where it all comes together. Be descripive and *help Uncle Steve understand his customers better*. Please!\n",
        "\n",
        "**Marking**\n",
        "\n",
        "The coding parts (i.e., 1 and 2) will be marked based on:\n",
        "\n",
        "- *Correctness*. Code clearly and fully performs the task specified.\n",
        "- *Reproducibility*. Code is fully reproducible. I.e., you (and I) are able to run this Notebook again and again, from top to bottom, and get the same results each time.\n",
        "- *Style*. Code is organized. All parts commented with clear reasoning and rationale. No old code laying around. Code easy to follow.\n",
        "\n",
        "\n",
        "Parts 3 and 4 will be marked on:\n",
        "\n",
        "- *Quality*. Response is well-justified and convincing. Responses uses facts and data where possible.\n",
        "- *Style*. Response uses proper grammar, spelling, and punctuation. Response is clear and professional. Response is complete, but not overly-verbose. Response follows length guidelines.\n",
        "\n",
        "\n",
        "**Tips**\n",
        "\n",
        "- Since clustering is an unsupervised ML technique, you don't need to split the data into training/validation/test or anything like that. Phew!\n",
        "- On the flip side, since clustering is unsupervised, you will never know the \"true\" clusters, and so you will never know if a given algorithm is \"correct.\" There really is no notion of \"correctness\" - only \"usefullness.\"\n",
        "- Many online clustering tutorials (including some from Uncle Steve) create flashy visualizations of the clusters by plotting the instances on a 2-D graph and coloring each point by the cluster ID. This is really nice and all, but it can only work if your dataset only has exactly two features - no more, no less. This dataset has more than two features, so you cannot use this technique. (But that's OK - you don't need to use this technique.) \n",
        "- Must you use all four features in the clustering? Not necessarily, no. But \"throwing away\" quality data, for no reason, is unlikely to improve a model.\n",
        "- Some people have success applying a dimensionality reduction technique (like [`sklearn.decomposition.PCA`](https://scikit-learn.org/stable/modules/generated/sklearn.decomposition.PCA.html)) to the features before clustering. You may do this if you wish, although it may not be as helpful in this case because there are only four features to begin with.\n",
        "- If you apply a transformation (e.g., [`MinMaxScaler`](https://scikit-learn.org/stable/modules/generated/sklearn.preprocessing.MinMaxScaler.html) or [`StandardScaler`](https://scikit-learn.org/stable/modules/generated/sklearn.preprocessing.StandardScaler.html#sklearn.preprocessing.StandardScaler)) to the features before clustering, you may have difficulty interpretting the means of the clusters (e.g., what is a mean Age of 0.2234??). There are two options to fix this: first, you can always reverse a transformation with the `inverse_transform` method. Second, you can just use the original dataset (i.e., before any prepropoceesing) during the interpreation step.\n",
        "- You cannot change the distance metric for K-Means. (This is for theoretical reasons: K-Means only works/makes sense with Euclidean distance.)\n"
      ]
    },
    {
      "cell_type": "markdown",
      "metadata": {
        "id": "Yww0-vtpOw7z"
      },
      "source": [
        "## 1.0: Load data "
      ]
    },
    {
      "cell_type": "code",
      "metadata": {
        "colab": {
          "base_uri": "https://localhost:8080/"
        },
        "id": "qVWx2c-DhQYo",
        "outputId": "6de9f05e-432f-4dbf-8d45-a69bde507708"
      },
      "source": [
        "# DO NOT MODIFY THIS CELL\n",
        "df1 = pd.read_csv(\"https://drive.google.com/uc?export=download&id=1thHDCwQK3GijytoSSZNekAsItN_FGHtm\")\n",
        "df1.info()"
      ],
      "execution_count": null,
      "outputs": [
        {
          "output_type": "stream",
          "name": "stdout",
          "text": [
            "<class 'pandas.core.frame.DataFrame'>\n",
            "RangeIndex: 505 entries, 0 to 504\n",
            "Data columns (total 4 columns):\n",
            " #   Column         Non-Null Count  Dtype  \n",
            "---  ------         --------------  -----  \n",
            " 0   Age            505 non-null    int64  \n",
            " 1   Income         505 non-null    int64  \n",
            " 2   SpendingScore  505 non-null    float64\n",
            " 3   Savings        505 non-null    float64\n",
            "dtypes: float64(2), int64(2)\n",
            "memory usage: 15.9 KB\n"
          ]
        }
      ]
    },
    {
      "cell_type": "code",
      "source": [
        "df1.describe()"
      ],
      "metadata": {
        "colab": {
          "base_uri": "https://localhost:8080/",
          "height": 300
        },
        "id": "64TeyhbalxKq",
        "outputId": "a2aa9bc5-2cc8-47d4-e8cc-d945b4dffdcf"
      },
      "execution_count": null,
      "outputs": [
        {
          "output_type": "execute_result",
          "data": {
            "text/html": [
              "<div>\n",
              "<style scoped>\n",
              "    .dataframe tbody tr th:only-of-type {\n",
              "        vertical-align: middle;\n",
              "    }\n",
              "\n",
              "    .dataframe tbody tr th {\n",
              "        vertical-align: top;\n",
              "    }\n",
              "\n",
              "    .dataframe thead th {\n",
              "        text-align: right;\n",
              "    }\n",
              "</style>\n",
              "<table border=\"1\" class=\"dataframe\">\n",
              "  <thead>\n",
              "    <tr style=\"text-align: right;\">\n",
              "      <th></th>\n",
              "      <th>Age</th>\n",
              "      <th>Income</th>\n",
              "      <th>SpendingScore</th>\n",
              "      <th>Savings</th>\n",
              "    </tr>\n",
              "  </thead>\n",
              "  <tbody>\n",
              "    <tr>\n",
              "      <th>count</th>\n",
              "      <td>505.000000</td>\n",
              "      <td>505.000000</td>\n",
              "      <td>505.000000</td>\n",
              "      <td>505.000000</td>\n",
              "    </tr>\n",
              "    <tr>\n",
              "      <th>mean</th>\n",
              "      <td>59.019802</td>\n",
              "      <td>75513.291089</td>\n",
              "      <td>0.505083</td>\n",
              "      <td>11862.455867</td>\n",
              "    </tr>\n",
              "    <tr>\n",
              "      <th>std</th>\n",
              "      <td>24.140043</td>\n",
              "      <td>35992.922184</td>\n",
              "      <td>0.259634</td>\n",
              "      <td>4949.229253</td>\n",
              "    </tr>\n",
              "    <tr>\n",
              "      <th>min</th>\n",
              "      <td>17.000000</td>\n",
              "      <td>12000.000000</td>\n",
              "      <td>0.000000</td>\n",
              "      <td>0.000000</td>\n",
              "    </tr>\n",
              "    <tr>\n",
              "      <th>25%</th>\n",
              "      <td>34.000000</td>\n",
              "      <td>34529.000000</td>\n",
              "      <td>0.304792</td>\n",
              "      <td>6828.709702</td>\n",
              "    </tr>\n",
              "    <tr>\n",
              "      <th>50%</th>\n",
              "      <td>59.000000</td>\n",
              "      <td>75078.000000</td>\n",
              "      <td>0.368215</td>\n",
              "      <td>14209.932802</td>\n",
              "    </tr>\n",
              "    <tr>\n",
              "      <th>75%</th>\n",
              "      <td>85.000000</td>\n",
              "      <td>107100.000000</td>\n",
              "      <td>0.768279</td>\n",
              "      <td>16047.268331</td>\n",
              "    </tr>\n",
              "    <tr>\n",
              "      <th>max</th>\n",
              "      <td>97.000000</td>\n",
              "      <td>142000.000000</td>\n",
              "      <td>1.000000</td>\n",
              "      <td>20000.000000</td>\n",
              "    </tr>\n",
              "  </tbody>\n",
              "</table>\n",
              "</div>"
            ],
            "text/plain": [
              "              Age         Income  SpendingScore       Savings\n",
              "count  505.000000     505.000000     505.000000    505.000000\n",
              "mean    59.019802   75513.291089       0.505083  11862.455867\n",
              "std     24.140043   35992.922184       0.259634   4949.229253\n",
              "min     17.000000   12000.000000       0.000000      0.000000\n",
              "25%     34.000000   34529.000000       0.304792   6828.709702\n",
              "50%     59.000000   75078.000000       0.368215  14209.932802\n",
              "75%     85.000000  107100.000000       0.768279  16047.268331\n",
              "max     97.000000  142000.000000       1.000000  20000.000000"
            ]
          },
          "metadata": {},
          "execution_count": 144
        }
      ]
    },
    {
      "cell_type": "code",
      "source": [
        "import numpy as np\n",
        "import pandas as pd\n",
        "import statsmodels.api as sm\n",
        "import matplotlib.pyplot as plt\n",
        "import seaborn as sns\n",
        "sns.set()\n",
        "from sklearn.cluster import KMeans\n",
        "import matplotlib.pyplot as plt\n",
        "from sklearn.cluster import AgglomerativeClustering\n",
        "\n",
        "from sklearn.datasets import make_blobs\n",
        "from sklearn.metrics import silhouette_score\n",
        "from sklearn.preprocessing import StandardScaler"
      ],
      "metadata": {
        "id": "B4Ncit_DlxYX"
      },
      "execution_count": null,
      "outputs": []
    },
    {
      "cell_type": "code",
      "source": [
        "#Plotting the data\n",
        "plt.scatter(df1['Savings'],df1['Income'])"
      ],
      "metadata": {
        "colab": {
          "base_uri": "https://localhost:8080/",
          "height": 286
        },
        "id": "xU6Ts0GSmfG9",
        "outputId": "a09c3a96-65fe-4dd6-c647-a80d7a907b88"
      },
      "execution_count": null,
      "outputs": [
        {
          "output_type": "execute_result",
          "data": {
            "text/plain": [
              "<matplotlib.collections.PathCollection at 0x7f9adbc1e190>"
            ]
          },
          "metadata": {},
          "execution_count": 146
        },
        {
          "output_type": "display_data",
          "data": {
            "image/png": "[encoded data removed]",
            "text/plain": [
              "<Figure size 432x288 with 1 Axes>"
            ]
          },
          "metadata": {}
        }
      ]
    },
    {
      "cell_type": "code",
      "source": [
        "plt.scatter(df1['Savings'],df1['Age'])"
      ],
      "metadata": {
        "colab": {
          "base_uri": "https://localhost:8080/",
          "height": 286
        },
        "id": "eU56hh8sxBZH",
        "outputId": "de3ae52b-1e05-4f4f-dd63-e0c2ed0d3a7e"
      },
      "execution_count": null,
      "outputs": [
        {
          "output_type": "execute_result",
          "data": {
            "text/plain": [
              "<matplotlib.collections.PathCollection at 0x7f9adbc83c90>"
            ]
          },
          "metadata": {},
          "execution_count": 147
        },
        {
          "output_type": "display_data",
          "data": {
            "image/png": "[encoded data removed]",
            "text/plain": [
              "<Figure size 432x288 with 1 Axes>"
            ]
          },
          "metadata": {}
        }
      ]
    },
    {
      "cell_type": "code",
      "source": [
        "#Plotting for all combination\n",
        "sns.pairplot(df1)"
      ],
      "metadata": {
        "colab": {
          "base_uri": "https://localhost:8080/",
          "height": 742
        },
        "id": "yj56EnNlxFiC",
        "outputId": "0a7a63d1-ff0f-450f-8b2b-3b06fb9d7a53"
      },
      "execution_count": null,
      "outputs": [
        {
          "output_type": "execute_result",
          "data": {
            "text/plain": [
              "<seaborn.axisgrid.PairGrid at 0x7f9adbcbaf90>"
            ]
          },
          "metadata": {},
          "execution_count": 148
        },
        {
          "output_type": "display_data",
          "data": {
            "image/png": "[encoded data removed]",
            "text/plain": [
              "<Figure size 720x720 with 20 Axes>"
            ]
          },
          "metadata": {}
        }
      ]
    },
    {
      "cell_type": "markdown",
      "source": [
        "### Visually we can see we will mostly likely have 4 clusters"
      ],
      "metadata": {
        "id": "AMyJFIq-yw0C"
      }
    },
    {
      "cell_type": "markdown",
      "metadata": {
        "id": "R04NzckZKbG2"
      },
      "source": [
        "## 1.1: Clustering Algorithm #1"
      ]
    },
    {
      "cell_type": "code",
      "source": [
        "def score(model, X_input): \n",
        "\n",
        "  score_silh = silhouette_score(X_input, model.labels_)\n",
        "  print(\"silhouette score = {}\".format(round(score_silh,3)))"
      ],
      "metadata": {
        "id": "HpvyXNGQxJve"
      },
      "execution_count": null,
      "outputs": []
    },
    {
      "cell_type": "code",
      "metadata": {
        "id": "Qeavkicwo_oN"
      },
      "source": [
        "scale = StandardScaler()\n",
        "X = scale.fit_transform(df1) "
      ],
      "execution_count": null,
      "outputs": []
    },
    {
      "cell_type": "code",
      "source": [
        "#Implementing Kmeans\n",
        "km = KMeans(n_clusters=4, random_state=50)\n",
        "km.fit(X)\n",
        "\n",
        "wcss_s = km.inertia_\n",
        "\n",
        "score(km,X)\n",
        "print(\"wcss score = {}\".format(round(wcss_s,2)))\n"
      ],
      "metadata": {
        "colab": {
          "base_uri": "https://localhost:8080/"
        },
        "id": "iv6tSM6JxEix",
        "outputId": "edda762d-9024-45c1-826f-07320672d52a"
      },
      "execution_count": null,
      "outputs": [
        {
          "output_type": "stream",
          "name": "stdout",
          "text": [
            "silhouette score = 0.758\n",
            "wcss score = 189.7\n"
          ]
        }
      ]
    },
    {
      "cell_type": "code",
      "source": [
        "#Default parameters for reference\n",
        "#(n_clusters=8, *, init='k-means++', n_init=10, max_iter=300, tol=0.0001, verbose=0, random_state=None, copy_x=True, algorithm='auto')"
      ],
      "metadata": {
        "id": "48jNomg9ywD5"
      },
      "execution_count": null,
      "outputs": []
    },
    {
      "cell_type": "code",
      "source": [
        "#With K = 5 \n",
        "km = KMeans(n_clusters=5)\n",
        "km.fit(X)\n",
        "\n",
        "wcss_s = km.inertia_\n",
        "\n",
        "score(km,X)\n",
        "print(\"wcss score = {}\".format(round(wcss_s,2)))"
      ],
      "metadata": {
        "id": "y3G-SBpysbLk",
        "colab": {
          "base_uri": "https://localhost:8080/"
        },
        "outputId": "d9c11002-eecd-46b2-8f8e-8ee24b2de4a8"
      },
      "execution_count": null,
      "outputs": [
        {
          "output_type": "stream",
          "name": "stdout",
          "text": [
            "silhouette score = 0.805\n",
            "wcss score = 66.51\n"
          ]
        }
      ]
    },
    {
      "cell_type": "code",
      "source": [
        "#With K = 6\n",
        "\n",
        "km = KMeans(n_clusters=6, random_state=50)\n",
        "km.fit(X)\n",
        "\n",
        "wcss_s = km.inertia_\n",
        "\n",
        "score(km,X)\n",
        "print(\"wcss score = {}\".format(round(wcss_s,2)))"
      ],
      "metadata": {
        "colab": {
          "base_uri": "https://localhost:8080/"
        },
        "id": "-5bw6e_Y9yio",
        "outputId": "76ff8387-3b11-4f3c-a9a6-24ace0d27d43"
      },
      "execution_count": null,
      "outputs": [
        {
          "output_type": "stream",
          "name": "stdout",
          "text": [
            "silhouette score = 0.633\n",
            "wcss score = 61.14\n"
          ]
        }
      ]
    },
    {
      "cell_type": "code",
      "source": [
        "#With K = 3\n",
        "\n",
        "km = KMeans(n_clusters=3, random_state=50)\n",
        "km.fit(X)\n",
        "\n",
        "wcss_s = km.inertia_\n",
        "\n",
        "score(km,X)\n",
        "print(\"wcss score = {}\".format(round(wcss_s,2)))"
      ],
      "metadata": {
        "colab": {
          "base_uri": "https://localhost:8080/"
        },
        "id": "eYqXZAWsHqeD",
        "outputId": "5f602b54-aef9-4aa3-ed34-585106ed6503"
      },
      "execution_count": null,
      "outputs": [
        {
          "output_type": "stream",
          "name": "stdout",
          "text": [
            "silhouette score = 0.696\n",
            "wcss score = 384.81\n"
          ]
        }
      ]
    },
    {
      "cell_type": "code",
      "source": [
        "#With K = 7\n",
        "\n",
        "km = KMeans(n_clusters=7, random_state=50)\n",
        "km.fit(X)\n",
        "\n",
        "wcss_s = km.inertia_\n",
        "\n",
        "score(km,X)\n",
        "print(\"wcss score = {}\".format(round(wcss_s,2)))"
      ],
      "metadata": {
        "colab": {
          "base_uri": "https://localhost:8080/"
        },
        "id": "_MRP9IW3HrFQ",
        "outputId": "43b96a95-44f9-474d-d9de-99e856578384"
      },
      "execution_count": null,
      "outputs": [
        {
          "output_type": "stream",
          "name": "stdout",
          "text": [
            "silhouette score = 0.443\n",
            "wcss score = 57.11\n"
          ]
        }
      ]
    },
    {
      "cell_type": "markdown",
      "source": [
        "K = 4\n",
        "silhouette score = 0.76\n",
        "wcss score = 189.7\n",
        "\n",
        "K = 5\n",
        "silhouette score = 0.8\n",
        "wcss score = 66.51\n",
        "\n",
        "K = 6 \n",
        "silhouette score = 0.63\n",
        "wcss score = 61.14\n",
        "\n",
        "**From the above we can see that with K = 5 is most optimal with higher silhouette score and lower wcss score**  "
      ],
      "metadata": {
        "id": "5G1YR1KS-qBf"
      }
    },
    {
      "cell_type": "code",
      "source": [
        "silhouettes = {}\n",
        "inertias = {}\n",
        "\n",
        "for k in range(3,8): \n",
        "  km = KMeans(n_clusters=k, random_state=50) \n",
        "  km.fit(X)\n",
        "  inertias[k] = km.inertia_\n",
        "  silhouettes[k] = silhouette_score(X, km.labels_, metric='euclidean')\n",
        "  #chs[k] = calinski_harabasz_score(X, km.labels_)\n",
        "\n",
        "plt.figure();\n",
        "plt.plot(list(inertias.keys()), list(inertias.values()));\n",
        "plt.title('Elbow Method K_Means')\n",
        "plt.xlabel(\"Number of K_clusters\");\n",
        "plt.ylabel(\"Inertia\");\n",
        "\n",
        "plt.figure();\n",
        "plt.plot(list(silhouettes.keys()), list(silhouettes.values()));\n",
        "plt.title('Elbow Method K_Means')\n",
        "plt.xlabel(\"Number of K_clusters\");\n",
        "plt.ylabel(\"Silhouette\");"
      ],
      "metadata": {
        "colab": {
          "base_uri": "https://localhost:8080/",
          "height": 585
        },
        "id": "6MQsSeUBywMc",
        "outputId": "18ecd225-cd59-4e60-de36-a117e7b18e8a"
      },
      "execution_count": null,
      "outputs": [
        {
          "output_type": "display_data",
          "data": {
            "image/png": "[encoded data removed]",
            "text/plain": [
              "<Figure size 432x288 with 1 Axes>"
            ]
          },
          "metadata": {}
        },
        {
          "output_type": "display_data",
          "data": {
            "image/png": "[encoded data removed]",
            "text/plain": [
              "<Figure size 432x288 with 1 Axes>"
            ]
          },
          "metadata": {}
        }
      ]
    },
    {
      "cell_type": "markdown",
      "source": [
        "**K = 5  is most optimal as per above elbow method**"
      ],
      "metadata": {
        "id": "ayfcDeOiHn00"
      }
    },
    {
      "cell_type": "markdown",
      "metadata": {
        "id": "ihVtYBWg1NM6"
      },
      "source": [
        "## 1.2: Clustering Algorithm #2"
      ]
    },
    {
      "cell_type": "code",
      "metadata": {
        "id": "Pu2xugQj1Mci",
        "colab": {
          "base_uri": "https://localhost:8080/"
        },
        "outputId": "cf032c60-b2f9-4688-c4ef-3abbb680b6ba"
      },
      "source": [
        "#H-Clust model; Algo #2 \n",
        "hclust = AgglomerativeClustering(n_clusters=4, affinity='euclidean', linkage='ward')\n",
        "hclust.fit(X)"
      ],
      "execution_count": null,
      "outputs": [
        {
          "output_type": "execute_result",
          "data": {
            "text/plain": [
              "AgglomerativeClustering(n_clusters=4)"
            ]
          },
          "metadata": {},
          "execution_count": 242
        }
      ]
    },
    {
      "cell_type": "code",
      "source": [
        "score(hclust,X)"
      ],
      "metadata": {
        "colab": {
          "base_uri": "https://localhost:8080/"
        },
        "id": "GrywU3uhIAOg",
        "outputId": "5ae8988f-f09f-4d00-fef3-6b90260f3421"
      },
      "execution_count": null,
      "outputs": [
        {
          "output_type": "stream",
          "name": "stdout",
          "text": [
            "silhouette score = 0.758\n"
          ]
        }
      ]
    },
    {
      "cell_type": "code",
      "source": [
        "#Dendrogram \n",
        "from scipy.cluster.hierarchy import linkage\n",
        "h = linkage(X, method='ward', metric='euclidean')"
      ],
      "metadata": {
        "id": "EpXCqeVnIAY_"
      },
      "execution_count": null,
      "outputs": []
    },
    {
      "cell_type": "code",
      "source": [
        "from scipy.cluster.hierarchy import dendrogram\n",
        "plt.figure(figsize=(9,7));\n",
        "dendrogram(h);"
      ],
      "metadata": {
        "colab": {
          "base_uri": "https://localhost:8080/",
          "height": 431
        },
        "id": "yaT-xCNvIAiL",
        "outputId": "e88005a8-61e0-432a-c6c2-fe3dbe635bc5"
      },
      "execution_count": null,
      "outputs": [
        {
          "output_type": "display_data",
          "data": {
            "image/png": "[encoded data removed]",
            "text/plain": [
              "<Figure size 648x504 with 1 Axes>"
            ]
          },
          "metadata": {}
        }
      ]
    },
    {
      "cell_type": "code",
      "source": [
        "from scipy.cluster.hierarchy import fcluster\n",
        "fcluster(h,5,criterion = \"maxclust\")"
      ],
      "metadata": {
        "colab": {
          "base_uri": "https://localhost:8080/"
        },
        "id": "g3NvROCRIAqd",
        "outputId": "98a8b274-cf40-4d1d-f5d0-9d59afd4e98a"
      },
      "execution_count": null,
      "outputs": [
        {
          "output_type": "execute_result",
          "data": {
            "text/plain": [
              "array([2, 2, 2, 2, 3, 1, 2, 3, 3, 3, 4, 5, 5, 5, 2, 4, 2, 3, 3, 4, 5, 4,\n",
              "       2, 3, 4, 1, 1, 2, 3, 2, 2, 2, 3, 2, 5, 2, 3, 2, 5, 5, 2, 3, 1, 2,\n",
              "       2, 1, 4, 1, 5, 2, 3, 5, 1, 3, 2, 3, 5, 3, 3, 3, 3, 3, 3, 2, 2, 2,\n",
              "       3, 1, 1, 2, 2, 5, 3, 3, 5, 2, 5, 2, 2, 1, 2, 4, 2, 3, 3, 5, 5, 2,\n",
              "       2, 2, 2, 2, 1, 3, 2, 1, 5, 2, 2, 5, 5, 1, 5, 1, 5, 3, 3, 5, 5, 2,\n",
              "       3, 5, 2, 5, 5, 5, 2, 5, 1, 3, 5, 3, 3, 3, 5, 4, 2, 3, 2, 2, 5, 2,\n",
              "       5, 2, 1, 3, 4, 1, 2, 5, 3, 2, 2, 1, 2, 1, 2, 4, 2, 3, 2, 5, 3, 2,\n",
              "       3, 4, 5, 2, 3, 2, 5, 3, 2, 5, 3, 5, 3, 2, 5, 2, 3, 2, 5, 2, 3, 2,\n",
              "       2, 3, 3, 3, 2, 2, 5, 1, 1, 3, 5, 2, 2, 2, 5, 3, 2, 2, 2, 3, 1, 5,\n",
              "       3, 3, 3, 5, 2, 5, 2, 5, 2, 3, 1, 2, 3, 3, 3, 3, 2, 3, 5, 1, 5, 3,\n",
              "       2, 2, 5, 3, 5, 1, 5, 2, 2, 3, 2, 2, 3, 2, 2, 2, 5, 2, 5, 5, 1, 2,\n",
              "       2, 2, 4, 2, 5, 3, 1, 1, 1, 3, 2, 5, 3, 3, 5, 5, 2, 2, 4, 2, 2, 3,\n",
              "       2, 3, 5, 1, 2, 5, 3, 2, 3, 3, 5, 2, 3, 3, 2, 2, 3, 5, 5, 4, 5, 3,\n",
              "       3, 5, 4, 3, 3, 1, 2, 5, 5, 2, 5, 3, 3, 5, 2, 5, 3, 2, 5, 1, 2, 3,\n",
              "       5, 5, 3, 4, 4, 2, 3, 5, 2, 2, 3, 5, 3, 5, 3, 5, 3, 3, 5, 3, 5, 2,\n",
              "       5, 2, 2, 5, 5, 3, 3, 1, 1, 5, 3, 1, 3, 4, 2, 2, 2, 3, 3, 5, 5, 4,\n",
              "       5, 4, 2, 5, 1, 3, 2, 3, 1, 2, 3, 3, 2, 3, 5, 2, 4, 5, 5, 2, 3, 3,\n",
              "       3, 3, 3, 5, 5, 3, 2, 5, 2, 4, 3, 3, 2, 3, 3, 2, 3, 3, 5, 3, 2, 5,\n",
              "       1, 5, 2, 3, 5, 2, 2, 2, 3, 5, 1, 5, 2, 5, 2, 2, 1, 5, 4, 1, 5, 5,\n",
              "       3, 2, 3, 5, 3, 5, 2, 2, 3, 4, 5, 3, 5, 2, 2, 5, 2, 3, 2, 5, 2, 3,\n",
              "       2, 3, 1, 5, 5, 1, 5, 5, 3, 3, 2, 1, 2, 5, 5, 4, 1, 5, 1, 3, 5, 5,\n",
              "       2, 5, 3, 3, 1, 2, 5, 2, 2, 5, 2, 2, 2, 3, 5, 5, 2, 2, 2, 3, 5, 3,\n",
              "       3, 3, 3, 1, 3, 3, 3, 2, 2, 3, 3, 2, 1, 3, 5, 1, 5, 3, 3, 3, 3],\n",
              "      dtype=int32)"
            ]
          },
          "metadata": {},
          "execution_count": 246
        }
      ]
    },
    {
      "cell_type": "code",
      "source": [
        "hclust = AgglomerativeClustering(n_clusters=5, affinity='euclidean', linkage='ward')\n",
        "hclust.fit(X) "
      ],
      "metadata": {
        "colab": {
          "base_uri": "https://localhost:8080/"
        },
        "id": "If8fCbis20QN",
        "outputId": "61decbcd-6cd0-4f79-c857-a50438e4b07b"
      },
      "execution_count": null,
      "outputs": [
        {
          "output_type": "execute_result",
          "data": {
            "text/plain": [
              "AgglomerativeClustering(n_clusters=5)"
            ]
          },
          "metadata": {},
          "execution_count": 247
        }
      ]
    },
    {
      "cell_type": "code",
      "source": [
        "#With K = 5 \n",
        "score(hclust,X)"
      ],
      "metadata": {
        "colab": {
          "base_uri": "https://localhost:8080/"
        },
        "id": "shuuqbRs99SR",
        "outputId": "057003cf-3618-4490-c204-7b48f2b6ba2a"
      },
      "execution_count": null,
      "outputs": [
        {
          "output_type": "stream",
          "name": "stdout",
          "text": [
            "silhouette score = 0.805\n"
          ]
        }
      ]
    },
    {
      "cell_type": "code",
      "source": [
        "hclust = AgglomerativeClustering(n_clusters=6, affinity='euclidean', linkage='ward')\n",
        "hclust.fit(X)"
      ],
      "metadata": {
        "colab": {
          "base_uri": "https://localhost:8080/"
        },
        "id": "IrfDE1WG-MPz",
        "outputId": "ba0e8d92-95fd-414e-ca01-ca29fd5072a4"
      },
      "execution_count": null,
      "outputs": [
        {
          "output_type": "execute_result",
          "data": {
            "text/plain": [
              "AgglomerativeClustering(n_clusters=6)"
            ]
          },
          "metadata": {},
          "execution_count": 249
        }
      ]
    },
    {
      "cell_type": "code",
      "source": [
        "#With K = 6 \n",
        "score(hclust,X)"
      ],
      "metadata": {
        "colab": {
          "base_uri": "https://localhost:8080/"
        },
        "id": "R9Vr8Dpk-QMl",
        "outputId": "bf616146-641e-4757-cf85-2d3acce6ffd6"
      },
      "execution_count": null,
      "outputs": [
        {
          "output_type": "stream",
          "name": "stdout",
          "text": [
            "silhouette score = 0.628\n"
          ]
        }
      ]
    },
    {
      "cell_type": "code",
      "source": [
        "hclust = AgglomerativeClustering(n_clusters=4, affinity='euclidean', linkage='ward')\n",
        "hclust.fit(X)"
      ],
      "metadata": {
        "colab": {
          "base_uri": "https://localhost:8080/"
        },
        "id": "8QGhA0YpEwzz",
        "outputId": "5983a2f9-c2d0-48dc-dfa5-9ccdb56fca40"
      },
      "execution_count": null,
      "outputs": [
        {
          "output_type": "execute_result",
          "data": {
            "text/plain": [
              "AgglomerativeClustering(n_clusters=4)"
            ]
          },
          "metadata": {},
          "execution_count": 251
        }
      ]
    },
    {
      "cell_type": "code",
      "source": [
        "#With K = 4\n",
        "score(hclust,X)"
      ],
      "metadata": {
        "colab": {
          "base_uri": "https://localhost:8080/"
        },
        "id": "uIyuEfisEzjJ",
        "outputId": "cca9db56-8519-41ed-8498-66ff7dfe703b"
      },
      "execution_count": null,
      "outputs": [
        {
          "output_type": "stream",
          "name": "stdout",
          "text": [
            "silhouette score = 0.758\n"
          ]
        }
      ]
    },
    {
      "cell_type": "code",
      "source": [
        "hclust = AgglomerativeClustering(n_clusters=3, affinity='euclidean', linkage='ward')\n",
        "hclust.fit(X)"
      ],
      "metadata": {
        "colab": {
          "base_uri": "https://localhost:8080/"
        },
        "id": "cUjaHiOeI_hE",
        "outputId": "0dde5ce1-9175-4c90-e65e-96f3332aa14e"
      },
      "execution_count": null,
      "outputs": [
        {
          "output_type": "execute_result",
          "data": {
            "text/plain": [
              "AgglomerativeClustering(n_clusters=3)"
            ]
          },
          "metadata": {},
          "execution_count": 253
        }
      ]
    },
    {
      "cell_type": "code",
      "source": [
        "#With K = 3\n",
        "score(hclust,X)"
      ],
      "metadata": {
        "colab": {
          "base_uri": "https://localhost:8080/"
        },
        "id": "sHo8kd--I_sK",
        "outputId": "2e259ced-8d8b-4b0a-fccf-1f633f0e73a6"
      },
      "execution_count": null,
      "outputs": [
        {
          "output_type": "stream",
          "name": "stdout",
          "text": [
            "silhouette score = 0.696\n"
          ]
        }
      ]
    },
    {
      "cell_type": "code",
      "source": [
        "hclust = AgglomerativeClustering(n_clusters=7, affinity='euclidean', linkage='ward')\n",
        "hclust.fit(X)"
      ],
      "metadata": {
        "colab": {
          "base_uri": "https://localhost:8080/"
        },
        "id": "Dwrn22YxJKxs",
        "outputId": "a72001c0-2e97-49cf-d9a5-94bf6f0d2222"
      },
      "execution_count": null,
      "outputs": [
        {
          "output_type": "execute_result",
          "data": {
            "text/plain": [
              "AgglomerativeClustering(n_clusters=7)"
            ]
          },
          "metadata": {},
          "execution_count": 255
        }
      ]
    },
    {
      "cell_type": "code",
      "source": [
        "#With K = 7\n",
        "score(hclust,X)"
      ],
      "metadata": {
        "colab": {
          "base_uri": "https://localhost:8080/"
        },
        "id": "1U3y1nY3JK-a",
        "outputId": "110150fc-1dd6-4447-b910-6306ef6683d4"
      },
      "execution_count": null,
      "outputs": [
        {
          "output_type": "stream",
          "name": "stdout",
          "text": [
            "silhouette score = 0.426\n"
          ]
        }
      ]
    },
    {
      "cell_type": "markdown",
      "source": [
        "**Best score observed using h-clust is with K = 5 that of 0.805** "
      ],
      "metadata": {
        "id": "Uw2n8Dc0A1T_"
      }
    },
    {
      "cell_type": "code",
      "source": [
        "#Just checking the silhouette score with 3rd algo DBSCAN \n",
        "from sklearn.cluster import DBSCAN\n",
        "db = DBSCAN(eps=0.3, min_samples=4)\n",
        "db.fit(X)"
      ],
      "metadata": {
        "colab": {
          "base_uri": "https://localhost:8080/"
        },
        "id": "EUrTI8k8-QPa",
        "outputId": "df708330-d3cf-450c-d677-5fecb970a086"
      },
      "execution_count": null,
      "outputs": [
        {
          "output_type": "execute_result",
          "data": {
            "text/plain": [
              "DBSCAN(eps=0.3, min_samples=4)"
            ]
          },
          "metadata": {},
          "execution_count": 257
        }
      ]
    },
    {
      "cell_type": "code",
      "source": [
        "score(db, X)"
      ],
      "metadata": {
        "colab": {
          "base_uri": "https://localhost:8080/"
        },
        "id": "SdobFvQ5-QRz",
        "outputId": "aafe4780-7d9f-4e76-872e-0b9ca8d3acd6"
      },
      "execution_count": null,
      "outputs": [
        {
          "output_type": "stream",
          "name": "stdout",
          "text": [
            "silhouette score = 0.765\n"
          ]
        }
      ]
    },
    {
      "cell_type": "markdown",
      "source": [],
      "metadata": {
        "id": "faU4QFeuJlzN"
      }
    },
    {
      "cell_type": "markdown",
      "metadata": {
        "id": "6ySJIgNr1Sfy"
      },
      "source": [
        "## 1.3 Model Comparison"
      ]
    },
    {
      "cell_type": "markdown",
      "metadata": {
        "id": "gwQembOT1L6U"
      },
      "source": [
        "K - 5 gives the best Silh_score in both models\n",
        "\n",
        "![image.png](data:image/png;base64,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)"
      ]
    },
    {
      "cell_type": "markdown",
      "metadata": {
        "id": "MP2EAnCJ1Xta"
      },
      "source": [
        "## 1.4 Personas"
      ]
    },
    {
      "cell_type": "code",
      "source": [
        "from sklearn.metrics import silhouette_samples"
      ],
      "metadata": {
        "id": "ffWf9JgpCvnH"
      },
      "execution_count": null,
      "outputs": []
    },
    {
      "cell_type": "code",
      "source": [
        "data=df1"
      ],
      "metadata": {
        "id": "R9xQMFtCDtlu"
      },
      "execution_count": null,
      "outputs": []
    },
    {
      "cell_type": "code",
      "source": [
        "km.labels_"
      ],
      "metadata": {
        "colab": {
          "base_uri": "https://localhost:8080/"
        },
        "id": "j_tKkih32fsW",
        "outputId": "68a7d325-b366-4606-d6ce-3ed390a1cc74"
      },
      "execution_count": null,
      "outputs": [
        {
          "output_type": "execute_result",
          "data": {
            "text/plain": [
              "array([1, 1, 1, 1, 3, 4, 1, 3, 3, 3, 0, 2, 2, 2, 1, 0, 1, 3, 3, 0, 2, 0,\n",
              "       1, 3, 0, 4, 4, 1, 3, 1, 1, 1, 3, 1, 2, 1, 3, 1, 2, 2, 1, 3, 4, 1,\n",
              "       1, 4, 0, 4, 2, 1, 3, 2, 4, 3, 1, 3, 2, 3, 3, 3, 3, 3, 3, 1, 1, 1,\n",
              "       3, 4, 4, 1, 1, 2, 3, 3, 2, 1, 2, 1, 1, 4, 1, 0, 1, 3, 3, 2, 2, 1,\n",
              "       1, 1, 1, 1, 4, 3, 1, 4, 2, 1, 1, 2, 2, 4, 2, 4, 2, 3, 3, 2, 2, 1,\n",
              "       3, 2, 1, 2, 2, 2, 1, 2, 4, 3, 2, 3, 3, 3, 2, 0, 1, 3, 1, 1, 2, 1,\n",
              "       2, 1, 4, 3, 0, 4, 1, 2, 3, 1, 1, 4, 1, 4, 1, 0, 1, 3, 1, 2, 3, 1,\n",
              "       3, 0, 2, 1, 3, 1, 2, 3, 1, 2, 3, 2, 3, 1, 2, 1, 3, 1, 2, 1, 3, 1,\n",
              "       1, 3, 3, 3, 1, 1, 2, 4, 4, 3, 2, 1, 1, 1, 2, 3, 1, 1, 1, 3, 4, 2,\n",
              "       3, 3, 3, 2, 1, 2, 1, 2, 1, 3, 4, 1, 3, 3, 3, 3, 1, 3, 2, 4, 2, 3,\n",
              "       1, 1, 2, 3, 2, 4, 2, 1, 1, 3, 1, 1, 3, 1, 1, 1, 2, 1, 2, 2, 4, 1,\n",
              "       1, 1, 0, 1, 2, 3, 4, 4, 4, 3, 1, 2, 3, 3, 2, 2, 1, 1, 0, 1, 1, 3,\n",
              "       1, 3, 2, 4, 1, 2, 3, 1, 3, 3, 2, 1, 3, 3, 1, 1, 3, 2, 2, 0, 2, 3,\n",
              "       3, 2, 0, 3, 3, 4, 1, 2, 2, 1, 2, 3, 3, 2, 1, 2, 3, 1, 2, 4, 1, 3,\n",
              "       2, 2, 3, 0, 0, 1, 3, 2, 1, 1, 3, 2, 3, 2, 3, 2, 3, 3, 2, 3, 2, 1,\n",
              "       2, 1, 1, 2, 2, 3, 3, 4, 4, 2, 3, 4, 3, 0, 1, 1, 1, 3, 3, 2, 2, 0,\n",
              "       2, 0, 1, 2, 4, 3, 1, 3, 4, 1, 3, 3, 1, 3, 2, 1, 0, 2, 2, 1, 3, 3,\n",
              "       3, 3, 3, 2, 2, 3, 1, 2, 1, 0, 3, 3, 1, 3, 3, 1, 3, 3, 2, 3, 1, 2,\n",
              "       4, 2, 1, 3, 2, 1, 1, 1, 3, 2, 4, 2, 1, 2, 1, 1, 4, 2, 0, 4, 2, 2,\n",
              "       3, 1, 3, 2, 3, 2, 1, 1, 3, 0, 2, 3, 2, 1, 1, 2, 1, 3, 1, 2, 1, 3,\n",
              "       1, 3, 4, 2, 2, 4, 2, 2, 3, 3, 1, 4, 1, 2, 2, 0, 4, 2, 4, 3, 2, 2,\n",
              "       1, 2, 3, 3, 4, 1, 2, 1, 1, 2, 1, 1, 1, 3, 2, 2, 1, 1, 1, 3, 2, 3,\n",
              "       3, 3, 3, 4, 3, 3, 3, 1, 1, 3, 3, 1, 4, 3, 2, 4, 2, 3, 3, 3, 3],\n",
              "      dtype=int32)"
            ]
          },
          "metadata": {},
          "execution_count": 262
        }
      ]
    },
    {
      "cell_type": "code",
      "source": [
        "for label in set(km.labels_):\n",
        "  \n",
        "    print('\\nCluster {}:'.format(label))\n",
        "    X_tmp = data[km.labels_==label].copy()\n",
        "    X_tmp.loc['min'] = X_tmp.min() \n",
        "    X_tmp.loc['mean'] = X_tmp.mean()\n",
        "    X_tmp.loc['max'] = X_tmp.max()\n",
        "    X_tmp.loc['Variance'] = X_tmp.var()\n",
        "    X_tmp.loc['Skewness'] = X_tmp.skew()\n",
        "    X_tmp.loc['Kurtosis'] = X_tmp.kurtosis()\n",
        "    print(X_tmp.tail(6).transpose())\n",
        "     "
      ],
      "metadata": {
        "colab": {
          "base_uri": "https://localhost:8080/"
        },
        "id": "x1QJdlJ6Dtoh",
        "outputId": "11ade95b-fde6-48d6-ee8b-7c13818689ad"
      },
      "execution_count": null,
      "outputs": [
        {
          "output_type": "stream",
          "name": "stdout",
          "text": [
            "\n",
            "Cluster 0:\n",
            "                         min           mean  ...  Skewness   Kurtosis\n",
            "Age                77.000000      85.653846  ... -4.636883  12.312669\n",
            "Income         110582.000000  119583.961538  ...  5.385156  29.998681\n",
            "SpendingScore       0.000000       0.065748  ...  0.449963  14.293522\n",
            "Savings         12554.692742   14721.991829  ...  5.385021  29.993902\n",
            "\n",
            "[4 rows x 6 columns]\n",
            "\n",
            "Cluster 1:\n",
            "                        min          mean  ...   Skewness    Kurtosis\n",
            "Age               51.000000     59.898734  ...  -4.936523   49.726133\n",
            "Income         56321.000000  72345.993671  ...  12.688504  161.997743\n",
            "SpendingScore      0.657314      0.770796  ...  -5.997367  155.325033\n",
            "Savings         4077.658657   6872.172737  ...  12.686023  161.945629\n",
            "\n",
            "[4 rows x 6 columns]\n",
            "\n",
            "Cluster 2:\n",
            "                        min           mean  ...   Skewness    Kurtosis\n",
            "Age               22.000000      32.692913  ...  -0.273316   12.636501\n",
            "Income         89598.000000  105142.440945  ...  11.401698  130.997230\n",
            "SpendingScore      0.174120       0.308857  ...  -1.481538  103.892419\n",
            "Savings        12207.526078   14941.083168  ...  11.399889  130.930706\n",
            "\n",
            "[4 rows x 6 columns]\n",
            "\n",
            "Cluster 3:\n",
            "                        min          mean  ...   Skewness    Kurtosis\n",
            "Age               79.000000     87.716216  ...  -7.741459   59.955573\n",
            "Income         12000.000000  27758.898649  ...  12.288143  151.998843\n",
            "SpendingScore      0.203140      0.327951  ...  -1.137802  103.664551\n",
            "Savings        13470.970605  16637.718940  ...  12.286317  151.930481\n",
            "\n",
            "[4 rows x 6 columns]\n",
            "\n",
            "Cluster 4:\n",
            "                         min           mean  ...  Skewness   Kurtosis\n",
            "Age                17.000000      24.039216  ... -0.448746   7.502446\n",
            "Income         117108.000000  127814.980392  ...  7.348453  54.998393\n",
            "SpendingScore       0.806553       0.895120  ... -5.965604  52.805013\n",
            "Savings             0.000000    4007.372852  ...  7.348154  54.996298\n",
            "\n",
            "[4 rows x 6 columns]\n"
          ]
        }
      ]
    },
    {
      "cell_type": "markdown",
      "source": [
        "## Personas: \n",
        "\n",
        "**Cluster 0: Rich, Well-planned & Frugal Grandparents:** This group is in similar age range of cluster 2 however has much higher income than that of cluster 2. This group is also very frugal and has the least spending score. Interesting thing to note over here is that despite higher income this group's savings is much lower compared to their income - this indicates that this group may be investing their surplus income in some other form than bank savings. \n",
        "\n",
        "**Cluster 1: Old and Unplanned:** This group is above the age of 50 and has lesser income than the previous group. This group should ideally have much higher savings than it currently has for its retirement. Hence they are categorized as old and unplanned. \n",
        "\n",
        "**Cluster 2: Young, Rich & Balanced**: This group is young and has an average income of more than 100,000. This group is also cognizant of their spendings and has started saving for its retirement. *As a credit company, Uncle Steve would like to have as many customers as this group as they have good earning capability and is likely to have good credit score.*\n",
        "\n",
        "**Cluster 3: Self-Sufficient and Balanced grandparents:** This group is in its retirement, has decent income to take care of themselves and is aware of its spendings. \n",
        "\n",
        "**Cluster 4: Super-rich, but Careless Millennials:** This is group is the youngest of all clusters, they earn the maximum but has very high spending score. This group has the least savings to income rate amongst all clusters. \n"
      ],
      "metadata": {
        "id": "EXEK_3ca5eVo"
      }
    },
    {
      "cell_type": "markdown",
      "metadata": {
        "id": "DYwuYIgczYSv"
      },
      "source": [
        "# Question 2: Uncle Steve's Fine Foods"
      ]
    },
    {
      "cell_type": "markdown",
      "metadata": {
        "id": "4oCr-mTfNG-H"
      },
      "source": [
        "## Instructions\n",
        "\n",
        "Uncle Steve runs a small, local grocery store in Ontario. The store sells all the normal food staples (e.g., bread, milk, cheese, eggs, more cheese, fruits, vegatables, meat, fish, waffles, ice cream, pasta, cereals, drinks), personal care products (e.g., toothpaste, shampoo, hair goo), medicine, and cakes. There's even a little section with flowers and greeting cards! Normal people shop here, and buy normal things in the normal way.\n",
        "\n",
        "Business is OK but Uncle Steve wants more. He's thus on the hunt for customer insights. Given your success at the jewelry store, he has asked you to help him out. \n",
        "\n",
        "He has given you a few years' worth of customer transactions, i.e., sets of items that customers have purchased. You have applied an association rules learning algorithm (like Apriori) to the data, and the algorithm has generated a large set of association rules of the form `{X} -> {Y}`, where `{X}` and `{Y}` are item-sets.\n",
        "\n",
        "Now comes a thought experiment. For each of the following scenarios, state what one of the discovered association rules might be that would meet the stated condition. (Just make up the rule, using your human experience and intuition.) Also, describe whether and why each rule would be considered interesting or uninteresting for Uncle Steve (i.e., is this insight new to him? Would he be able to use it somehow?).\n",
        "\n",
        "Keep each answer to 600 characters or less (including spaces).\n",
        "\n",
        "To get those brain juices going, an example condition and answer is provided below:\n",
        "\n",
        "> Condition: A rule that has high support.\n",
        "\n",
        "> Answer: The rule `{milk} -> {bread}` would have high support, since milk and bread are household staples and a high percentage of transactions would include both `{milk}` and `{bread}`. Uncle Steve would likely not find this rule interesting, because these items are so common, he would have surely already noticed that so many transactions contain them.\n",
        "\n",
        "**Marking**\n",
        "\n",
        "Your responses will be marked as follows:\n",
        "\n",
        "- *Correctness*. Rule meets the specificed condition, and seems plausible in an Ontario grocery store.\n",
        "- *Justification of interestness*. Response clearly describes whether and why the rule would be considered interesting to Uncle Steve.\n",
        "\n",
        "**Tips**\n",
        "\n",
        "- There is no actual data for this question. This question is just a thought exercise. You need to use your intuition, creatitivty, and understanding of the real world. I assume you are familiar with what happens inside of normal grocery stores. We are not using actual data and you do not need to create/generate/find any data. I repeat: there is no data for this question.\n",
        "- The reason this question is having you do a thought experiment, rather than writing and running code to find actual association rules on an actual dataset, is because writing code to find association rules is actually pretty easy. But using your brain to come up with rules that meet certain criteria, on the other hand, is a true test of whether you understand how the algorithm works, what support and confidence mean, and the applicability of rules. The question uses the grocery store context because most, if not all, students should be familiar from personal experience.\n",
        "\n"
      ]
    },
    {
      "cell_type": "markdown",
      "source": [],
      "metadata": {
        "id": "8GBHWJURsI6X"
      }
    },
    {
      "cell_type": "markdown",
      "metadata": {
        "id": "3YQsOb6CzYVq"
      },
      "source": [
        "## 2.1: A rule that might have high support and high confidence. "
      ]
    },
    {
      "cell_type": "markdown",
      "metadata": {
        "id": "DzXu1IvK-MEg"
      },
      "source": [
        "\n",
        "{eggs} -> {cheese} is likely to have high s/c as both products are bought by most households throughout the year. For Steve this rule may not be that interesting considering high volume of transactions of these two products. However, Steve can create a small recipe information counter at his store which will give out different recipes of eggs/cheese to get more people to buy these two products together, thereby increase in sales.  \n",
        "\n",
        "Of the total transactions, eggs and cheese would occur on most transaction **indicating high support**. \n",
        "\n",
        "It is intuitive to think that people who buy eggs are most likely to buy cheese as most like to pair these two products to meet their daily protein intake, especially post-workout or during breakfast – which **indicates high confidence**. "
      ]
    },
    {
      "cell_type": "markdown",
      "metadata": {
        "id": "VNIrAgJk-L4l"
      },
      "source": [
        "## 2.2: A rule that might have reasonably high support but low confidence."
      ]
    },
    {
      "cell_type": "markdown",
      "metadata": {
        "id": "svdzYW3S-LvF"
      },
      "source": [
        "{milk} -> {fish} as both these products are regularly bought by many households, because of which they generally would have reasonably **high support**. However, most people do not like to consume milk and fish together and hence it is expected that people who buy milk (which is large percentage of shoppers) are not very likely to buy fish at the same time – **indicating low confidence**. Uncle Steve can take this insight and keep these two products as far as possible in the store so that customers have a pleasant shopping experience. "
      ]
    },
    {
      "cell_type": "markdown",
      "metadata": {
        "id": "loe--LMz-Ll8"
      },
      "source": [
        "## 2.3: A rule that might have low support and low confidence."
      ]
    },
    {
      "cell_type": "markdown",
      "metadata": {
        "id": "HdyOB5fe-Zgy"
      },
      "source": [
        "{medicines} -> {flowers} this rule rides on an emotional or general mood of the audience while shopping at the store. As these two are only bought during specific need or for a occasion – this indicates **low support** for this rule. Generally people buy medicines for themselves or for any family member in health stress – indicating not a great mood of people while buying medicines. Flowers on the other hand are bought during completely opposite occasion when people are in happy state or to gift someone special. This indicates **low confidence**, when medicines appear in the list, people are unlikely to buy flowers. Generally, people who come to buy medicines at the store are unlikely to buy anything else – so to make these people wait in queue for a long time on busy days/weekends may not be a great idea. Uncle Steve can create a small cash counter for medicines and emergency products so that these users don’t have to wait for their turn at the cash/payment counter. "
      ]
    },
    {
      "cell_type": "markdown",
      "metadata": {
        "id": "St2eI3We-ZYs"
      },
      "source": [
        "## 2.4: A rule that might have low support and high confidence."
      ]
    },
    {
      "cell_type": "markdown",
      "metadata": {
        "id": "LcdZc-B1-fE7"
      },
      "source": [
        "{waffles} -> {ice cream} Both these items are not as regularly bought as cereals, milk, eggs etc. indicating **low support** when compared to total number of transactions at the store. However, the unique combination of a hot waffle and a cold ice cream can be enjoyed in any weather and is generally paired by lot of consumers of waffles. This indicates **high confidence**. Uncle Steve can expect a regular running business by interestingly pairing these two products at the kiosk by offering combo packs of waffles and ice cream so consumers will be intrigued further to buy these two products together. "
      ]
    },
    {
      "cell_type": "markdown",
      "metadata": {
        "id": "B_IHoz7f2yIV"
      },
      "source": [
        "# Question 3: Uncle Steve's Credit Union"
      ]
    },
    {
      "cell_type": "markdown",
      "metadata": {
        "id": "WhERdkp_zYBY"
      },
      "source": [
        "## Instructions\n",
        "\n",
        "Uncle Steve has recently opened a new credit union in Kingston, named *Uncle Steve's Credit Union*. He plans to disrupt the local market by instaneously providing credit to customers.\n",
        "\n",
        "The first step in Uncle Steve's master plan is to create a model to predict whether an application has *good risk* or *bad risk*. He has outsourced the creation of this model to you.\n",
        "\n",
        "You are to create a classification model to predict whether a loan applicant has good risk or bad risk. You will use data  that Uncle Steve bought from another credit union (somewhere in Europe, he thinks?) that has around 6000 instances and a number of demographics features (e.g., `Sex`, `DateOfBirth`, `Married`), loan details (e.g., `Amount`, `Purpose`), credit history (e.g., number of loans), as well as an indicator (called `BadCredit` in the dataset) as to whether that person was a bad risk.\n",
        "\n",
        "\n",
        "**Your tasks**\n",
        "\n",
        "To examine the effects of the various ML stages, you are to create the model several times, each time adding more sophistication, and measuring how much the model improved (or not). In particular, you will:\n",
        "\n",
        "0. Split the data in training and testing. Don't touch the testing data again, for any reason, until step 5. We are pretending that the testing data is \"future, unseen data that our model won't see until production.\" I'm serious, don't touch it. I'm watching you!\n",
        "1. Build a baseline model - no feature engineering, no feature selection, no hyperparameter tuning (just use the default settings), nothing fancy. (You may need to do some basic feature transformations, e.g., encoding of categorical features, or dropping of features you do not think will help or do not want to deal with yet.) Measure the performance using K-fold cross validation (recommended: [`sklearn.model_selection.cross_val_score`](https://scikit-learn.org/stable/modules/generated/sklearn.model_selection.cross_val_score.html#sklearn.model_selection.cross_val_score)) on the training data. Use at least 5 folds, but more are better. Choose a [`scoring` parameter](https://scikit-learn.org/stable/modules/model_evaluation.html#scoring-parameter) (i.e., classification metric) that you feel is appropriate for this task. Don't use accuracy. Print the mean score of your model.\n",
        "2. Add a bit of feature engineering. The [`sklearn.preprocessing`](https://scikit-learn.org/stable/modules/classes.html#module-sklearn.preprocessing) module contains many useful transformations. Engineer at least three new features. They don't need to be especially ground-breaking or complicated. Dimensionality reduction techniques like [`sklearn.decomposition.PCA`](https://scikit-learn.org/stable/modules/generated/sklearn.decomposition.PCA.html) are fair game but not required. (If you do use dimensionality reduction techniques, it would only count as \"one\" new feature for the purposes of this assignment, even though I realize that PCA creates many new \"features\" (i.e., principal componentns).) Re-train your baseline model. Measure performance. Compare to step 1.\n",
        "3. Add feature selection. The [`sklearn.feature_selection`](https://scikit-learn.org/stable/modules/classes.html#module-sklearn.feature_selection) has some algorithms for you to choose from. After selecting features, re-train your model, measure performance, and compare to step 2.\n",
        "4. Add hyperparameter tuning. Make reasonable choices and try to find the best (or at least, better) hyperparameters for your estimator and/or transformers. It's probably a good idea to stop using `cross_val_score` at this point and start using [`sklearn.model_selection.GridSearchCV`](https://scikit-learn.org/stable/modules/generated/sklearn.model_selection.GridSearchCV.html#sklearn.model_selection.GridSearchCV) as it is specifically built for this purpose and is more convienient to use. Measure performance and compare to step 3.\n",
        "5. Finally, estimate how well your model will work in production. Use the testing data (our \"future, unseen data\") from step 0. Transform the data as appropriate (easy if you've built a pipeline, a little more difficult if not), use the model from step 4 to get predictions, and measure the performance. How well did we do? \n",
        "\n",
        "\n",
        "**Marking**\n",
        "\n",
        "Each part will be marked for:\n",
        "- *Correctness*. Code clearly and fully performs the task specified.\n",
        "- *Reproducibility*. Code is fully reproducible. I.e., you (and I) should be able to run this Notebook again and again, from top to bottom, and get the same results each and every time.\n",
        "- *Style*. Code is organized. All parts commented with clear reasoning and rationale. No old code laying around. Code easy to follow. \n",
        "\n",
        "\n",
        "**Tips**\n",
        "- The origins of the dataset are a bit of a mystery. Assume the data set is recent (circa 2021) and up-to-date. Assume that column names are correct and accurate.\n",
        "- You don't need to experiment with more than one algorithm/estimator. Just choose one (e.g., [`sklearn.tree.DecisionTreeClassifier`](https://scikit-learn.org/stable/modules/generated/sklearn.tree.DecisionTreeClassifier.html#sklearn.tree.DecisionTreeClassifier), [`sklearn.ensemble.RandomForestClassifier`](https://scikit-learn.org/stable/modules/generated/sklearn.ensemble.RandomForestClassifier.html#sklearn.ensemble.RandomForestClassifier), [`sklearn.linear_model.LogisticRegression`](https://scikit-learn.org/stable/modules/generated/sklearn.linear_model.LogisticRegression.html#sklearn.linear_model.LogisticRegression), [`sklearn.svm.LinearSVC`](https://scikit-learn.org/stable/modules/generated/sklearn.svm.LinearSVC.html#sklearn.svm.LinearSVC), whatever) and stick with it for this question. \n",
        "- There is no minimum accuracy/precision/recall for this question. I.e., your mark will not be based on how good your model is. Rather, you mark will be based on good your process is.\n",
        "- Watch out for data leakage and overfitting. In particular, be sure to `fit()` any estimators and transformers (collectively, *objects*) only to the training data, and then use the objects' `transform()` methods on both the training and testing data. [Data School](https://www.youtube.com/c/dataschool/featured) has a [helpful video](https://www.youtube.com/watch?v=g2XsZdwbCCs) about this. [Pipelines](https://www.youtube.com/watch?v=1Y6O9nCo0-I) are very helpful here and make your code shorter and more robust (at the expense of making it harder to understand), and I recommend using them, but they are not required for this assignment.\n",
        "- Create as many code cells as you need. In general, each cell should do one \"thing.\"\n",
        "-\tDon't print large volumes of output. E.g., don't do: `df.head(100)`\n",
        "\n",
        "\n"
      ]
    },
    {
      "cell_type": "markdown",
      "metadata": {
        "id": "jqm_REd4oouz"
      },
      "source": [
        "## 3.0: Load data and split"
      ]
    },
    {
      "cell_type": "code",
      "metadata": {
        "id": "X6b_BM0Nz9sF",
        "colab": {
          "base_uri": "https://localhost:8080/"
        },
        "outputId": "962a503d-5a71-4344-ac37-f052eb86763f"
      },
      "source": [
        "# DO NOT MODIFY THIS CELL\n",
        "\n",
        "# First, we'll read the provided labeled training data\n",
        "df3 = pd.read_csv(\"https://drive.google.com/uc?export=download&id=1wOhyCnvGeY4jplxI8lZ-bbYN3zLtickf\")\n",
        "df3.info()\n",
        "\n",
        "from sklearn.model_selection import train_test_split\n",
        "\n",
        "X = df3.drop('BadCredit', axis=1) #.select_dtypes(['number'])\n",
        "y = df3['BadCredit']\n",
        "\n",
        "X_train, X_test, y_train, y_test = train_test_split(X, y, test_size=0.2, random_state=42)"
      ],
      "execution_count": null,
      "outputs": [
        {
          "output_type": "stream",
          "name": "stdout",
          "text": [
            "<class 'pandas.core.frame.DataFrame'>\n",
            "RangeIndex: 6000 entries, 0 to 5999\n",
            "Data columns (total 17 columns):\n",
            " #   Column             Non-Null Count  Dtype \n",
            "---  ------             --------------  ----- \n",
            " 0   UserID             6000 non-null   object\n",
            " 1   Sex                6000 non-null   object\n",
            " 2   PreviousDefault    6000 non-null   int64 \n",
            " 3   FirstName          6000 non-null   object\n",
            " 4   LastName           6000 non-null   object\n",
            " 5   NumberPets         6000 non-null   int64 \n",
            " 6   PreviousAccounts   6000 non-null   int64 \n",
            " 7   ResidenceDuration  6000 non-null   int64 \n",
            " 8   Street             6000 non-null   object\n",
            " 9   LicensePlate       6000 non-null   object\n",
            " 10  BadCredit          6000 non-null   int64 \n",
            " 11  Amount             6000 non-null   int64 \n",
            " 12  Married            6000 non-null   int64 \n",
            " 13  Duration           6000 non-null   int64 \n",
            " 14  City               6000 non-null   object\n",
            " 15  Purpose            6000 non-null   object\n",
            " 16  DateOfBirth        6000 non-null   object\n",
            "dtypes: int64(8), object(9)\n",
            "memory usage: 797.0+ KB\n"
          ]
        }
      ]
    },
    {
      "cell_type": "code",
      "metadata": {
        "id": "_KoE6O56ymD5"
      },
      "source": [
        "#Load Libraries \n",
        "import datetime\n",
        "import pandas as pd\n",
        "import numpy as np\n",
        "import matplotlib.pyplot as plt\n",
        "import seaborn as sns\n",
        "from sklearn.metrics import silhouette_score, silhouette_samples\n",
        "from sklearn.preprocessing import StandardScaler\n",
        "from sklearn.cluster import KMeans\n",
        "from sklearn.linear_model import LogisticRegression\n",
        "from sklearn.model_selection import KFold\n",
        "from sklearn.model_selection import cross_val_score, cross_validate\n",
        "from sklearn.metrics import make_scorer, accuracy_score, precision_score, recall_score, f1_score\n",
        "from sklearn.preprocessing import PolynomialFeatures\n",
        "from sklearn import tree\n",
        "from sklearn.pipeline import Pipeline\n",
        "from sklearn.model_selection import GridSearchCV, cross_val_score\n",
        "from sklearn.preprocessing import StandardScaler\n",
        "from sklearn.metrics import roc_curve, auc\n",
        "from sklearn import metrics"
      ],
      "execution_count": null,
      "outputs": []
    },
    {
      "cell_type": "markdown",
      "metadata": {
        "id": "TruimqQzyQ4m"
      },
      "source": [
        "## 3.1: Baseline Model"
      ]
    },
    {
      "cell_type": "code",
      "metadata": {
        "colab": {
          "base_uri": "https://localhost:8080/"
        },
        "id": "j1yHsBz6ycQ5",
        "outputId": "40610a97-025f-44af-913a-039c7ce26029"
      },
      "source": [
        "#Check NAs / null\n",
        "df3.isnull().sum().sum()\n"
      ],
      "execution_count": null,
      "outputs": [
        {
          "output_type": "execute_result",
          "data": {
            "text/plain": [
              "0"
            ]
          },
          "metadata": {},
          "execution_count": 181
        }
      ]
    },
    {
      "cell_type": "code",
      "metadata": {
        "colab": {
          "base_uri": "https://localhost:8080/"
        },
        "id": "cU1HEW8A_FG9",
        "outputId": "6b901647-85a9-4508-f1a0-80bcdf61313b"
      },
      "source": [
        "df3.isna().sum().sum()"
      ],
      "execution_count": null,
      "outputs": [
        {
          "output_type": "execute_result",
          "data": {
            "text/plain": [
              "0"
            ]
          },
          "metadata": {},
          "execution_count": 182
        }
      ]
    },
    {
      "cell_type": "code",
      "metadata": {
        "colab": {
          "base_uri": "https://localhost:8080/",
          "height": 894
        },
        "id": "1AvRFghGyiTZ",
        "outputId": "92ac04ef-0b09-4f60-b15a-c7ac1f3c74e7"
      },
      "source": [
        "pd.DataFrame(df3)"
      ],
      "execution_count": null,
      "outputs": [
        {
          "output_type": "execute_result",
          "data": {
            "text/html": [
              "<div>\n",
              "<style scoped>\n",
              "    .dataframe tbody tr th:only-of-type {\n",
              "        vertical-align: middle;\n",
              "    }\n",
              "\n",
              "    .dataframe tbody tr th {\n",
              "        vertical-align: top;\n",
              "    }\n",
              "\n",
              "    .dataframe thead th {\n",
              "        text-align: right;\n",
              "    }\n",
              "</style>\n",
              "<table border=\"1\" class=\"dataframe\">\n",
              "  <thead>\n",
              "    <tr style=\"text-align: right;\">\n",
              "      <th></th>\n",
              "      <th>UserID</th>\n",
              "      <th>Sex</th>\n",
              "      <th>PreviousDefault</th>\n",
              "      <th>FirstName</th>\n",
              "      <th>LastName</th>\n",
              "      <th>NumberPets</th>\n",
              "      <th>PreviousAccounts</th>\n",
              "      <th>ResidenceDuration</th>\n",
              "      <th>Street</th>\n",
              "      <th>LicensePlate</th>\n",
              "      <th>BadCredit</th>\n",
              "      <th>Amount</th>\n",
              "      <th>Married</th>\n",
              "      <th>Duration</th>\n",
              "      <th>City</th>\n",
              "      <th>Purpose</th>\n",
              "      <th>DateOfBirth</th>\n",
              "    </tr>\n",
              "  </thead>\n",
              "  <tbody>\n",
              "    <tr>\n",
              "      <th>0</th>\n",
              "      <td>218-84-8180</td>\n",
              "      <td>F</td>\n",
              "      <td>0</td>\n",
              "      <td>Debra</td>\n",
              "      <td>Schaefer</td>\n",
              "      <td>2</td>\n",
              "      <td>3</td>\n",
              "      <td>1</td>\n",
              "      <td>503 Linda Locks</td>\n",
              "      <td>395C</td>\n",
              "      <td>0</td>\n",
              "      <td>3907</td>\n",
              "      <td>0</td>\n",
              "      <td>24</td>\n",
              "      <td>Port Keith</td>\n",
              "      <td>Vacation</td>\n",
              "      <td>1964-04-07</td>\n",
              "    </tr>\n",
              "    <tr>\n",
              "      <th>1</th>\n",
              "      <td>395-49-9764</td>\n",
              "      <td>M</td>\n",
              "      <td>0</td>\n",
              "      <td>Derek</td>\n",
              "      <td>Wright</td>\n",
              "      <td>0</td>\n",
              "      <td>1</td>\n",
              "      <td>1</td>\n",
              "      <td>969 Cox Dam Suite 101</td>\n",
              "      <td>UFZ 691</td>\n",
              "      <td>0</td>\n",
              "      <td>3235</td>\n",
              "      <td>0</td>\n",
              "      <td>12</td>\n",
              "      <td>Lake Debra</td>\n",
              "      <td>NewCar</td>\n",
              "      <td>1978-06-02</td>\n",
              "    </tr>\n",
              "    <tr>\n",
              "      <th>2</th>\n",
              "      <td>892-81-4890</td>\n",
              "      <td>F</td>\n",
              "      <td>0</td>\n",
              "      <td>Shannon</td>\n",
              "      <td>Smith</td>\n",
              "      <td>0</td>\n",
              "      <td>0</td>\n",
              "      <td>2</td>\n",
              "      <td>845 Kelly Estate</td>\n",
              "      <td>48A•281</td>\n",
              "      <td>0</td>\n",
              "      <td>3108</td>\n",
              "      <td>1</td>\n",
              "      <td>30</td>\n",
              "      <td>North Judithbury</td>\n",
              "      <td>NewCar</td>\n",
              "      <td>1972-03-18</td>\n",
              "    </tr>\n",
              "    <tr>\n",
              "      <th>3</th>\n",
              "      <td>081-11-7963</td>\n",
              "      <td>F</td>\n",
              "      <td>0</td>\n",
              "      <td>Christina</td>\n",
              "      <td>Brooks</td>\n",
              "      <td>2</td>\n",
              "      <td>1</td>\n",
              "      <td>3</td>\n",
              "      <td>809 Burns Creek</td>\n",
              "      <td>30Z J39</td>\n",
              "      <td>1</td>\n",
              "      <td>4014</td>\n",
              "      <td>1</td>\n",
              "      <td>36</td>\n",
              "      <td>Lake Chad</td>\n",
              "      <td>Other</td>\n",
              "      <td>1985-02-26</td>\n",
              "    </tr>\n",
              "    <tr>\n",
              "      <th>4</th>\n",
              "      <td>347-03-9639</td>\n",
              "      <td>M</td>\n",
              "      <td>0</td>\n",
              "      <td>Ralph</td>\n",
              "      <td>Anderson</td>\n",
              "      <td>1</td>\n",
              "      <td>5</td>\n",
              "      <td>1</td>\n",
              "      <td>248 Brandt Plains Apt. 465</td>\n",
              "      <td>71-Q331</td>\n",
              "      <td>1</td>\n",
              "      <td>3823</td>\n",
              "      <td>0</td>\n",
              "      <td>18</td>\n",
              "      <td>North Judithbury</td>\n",
              "      <td>Vacation</td>\n",
              "      <td>1983-08-08</td>\n",
              "    </tr>\n",
              "    <tr>\n",
              "      <th>...</th>\n",
              "      <td>...</td>\n",
              "      <td>...</td>\n",
              "      <td>...</td>\n",
              "      <td>...</td>\n",
              "      <td>...</td>\n",
              "      <td>...</td>\n",
              "      <td>...</td>\n",
              "      <td>...</td>\n",
              "      <td>...</td>\n",
              "      <td>...</td>\n",
              "      <td>...</td>\n",
              "      <td>...</td>\n",
              "      <td>...</td>\n",
              "      <td>...</td>\n",
              "      <td>...</td>\n",
              "      <td>...</td>\n",
              "      <td>...</td>\n",
              "    </tr>\n",
              "    <tr>\n",
              "      <th>5995</th>\n",
              "      <td>290-91-5587</td>\n",
              "      <td>F</td>\n",
              "      <td>0</td>\n",
              "      <td>Jamie</td>\n",
              "      <td>Diaz</td>\n",
              "      <td>2</td>\n",
              "      <td>0</td>\n",
              "      <td>2</td>\n",
              "      <td>67539 Walters Hill Suite 945</td>\n",
              "      <td>4XT H23</td>\n",
              "      <td>0</td>\n",
              "      <td>3799</td>\n",
              "      <td>0</td>\n",
              "      <td>6</td>\n",
              "      <td>East Jessetown</td>\n",
              "      <td>Repair</td>\n",
              "      <td>1968-08-25</td>\n",
              "    </tr>\n",
              "    <tr>\n",
              "      <th>5996</th>\n",
              "      <td>137-27-2025</td>\n",
              "      <td>M</td>\n",
              "      <td>0</td>\n",
              "      <td>Brian</td>\n",
              "      <td>Abbott</td>\n",
              "      <td>2</td>\n",
              "      <td>1</td>\n",
              "      <td>2</td>\n",
              "      <td>962 Hannah Valleys</td>\n",
              "      <td>81-3897C</td>\n",
              "      <td>0</td>\n",
              "      <td>3641</td>\n",
              "      <td>1</td>\n",
              "      <td>30</td>\n",
              "      <td>Lisatown</td>\n",
              "      <td>NewCar</td>\n",
              "      <td>1969-08-15</td>\n",
              "    </tr>\n",
              "    <tr>\n",
              "      <th>5997</th>\n",
              "      <td>061-50-0051</td>\n",
              "      <td>M</td>\n",
              "      <td>0</td>\n",
              "      <td>Benjamin</td>\n",
              "      <td>Medina</td>\n",
              "      <td>1</td>\n",
              "      <td>2</td>\n",
              "      <td>0</td>\n",
              "      <td>397 Williams Crest</td>\n",
              "      <td>303-IAT</td>\n",
              "      <td>0</td>\n",
              "      <td>3192</td>\n",
              "      <td>1</td>\n",
              "      <td>18</td>\n",
              "      <td>New Roberttown</td>\n",
              "      <td>Education</td>\n",
              "      <td>1977-04-12</td>\n",
              "    </tr>\n",
              "    <tr>\n",
              "      <th>5998</th>\n",
              "      <td>239-62-7143</td>\n",
              "      <td>M</td>\n",
              "      <td>0</td>\n",
              "      <td>Terry</td>\n",
              "      <td>Young</td>\n",
              "      <td>1</td>\n",
              "      <td>2</td>\n",
              "      <td>4</td>\n",
              "      <td>779 Larry River</td>\n",
              "      <td>R51-30T</td>\n",
              "      <td>0</td>\n",
              "      <td>3784</td>\n",
              "      <td>0</td>\n",
              "      <td>24</td>\n",
              "      <td>North Judithbury</td>\n",
              "      <td>NewCar</td>\n",
              "      <td>1966-06-12</td>\n",
              "    </tr>\n",
              "    <tr>\n",
              "      <th>5999</th>\n",
              "      <td>367-72-7571</td>\n",
              "      <td>F</td>\n",
              "      <td>0</td>\n",
              "      <td>Aimee</td>\n",
              "      <td>Alexander</td>\n",
              "      <td>2</td>\n",
              "      <td>0</td>\n",
              "      <td>0</td>\n",
              "      <td>85289 Colin Springs</td>\n",
              "      <td>LA3 N7L</td>\n",
              "      <td>1</td>\n",
              "      <td>3889</td>\n",
              "      <td>0</td>\n",
              "      <td>18</td>\n",
              "      <td>North Judithbury</td>\n",
              "      <td>UsedCar</td>\n",
              "      <td>1979-06-29</td>\n",
              "    </tr>\n",
              "  </tbody>\n",
              "</table>\n",
              "<p>6000 rows × 17 columns</p>\n",
              "</div>"
            ],
            "text/plain": [
              "           UserID Sex  PreviousDefault  ...              City    Purpose  DateOfBirth\n",
              "0     218-84-8180   F                0  ...        Port Keith   Vacation   1964-04-07\n",
              "1     395-49-9764   M                0  ...        Lake Debra     NewCar   1978-06-02\n",
              "2     892-81-4890   F                0  ...  North Judithbury     NewCar   1972-03-18\n",
              "3     081-11-7963   F                0  ...         Lake Chad      Other   1985-02-26\n",
              "4     347-03-9639   M                0  ...  North Judithbury   Vacation   1983-08-08\n",
              "...           ...  ..              ...  ...               ...        ...          ...\n",
              "5995  290-91-5587   F                0  ...    East Jessetown     Repair   1968-08-25\n",
              "5996  137-27-2025   M                0  ...          Lisatown     NewCar   1969-08-15\n",
              "5997  061-50-0051   M                0  ...    New Roberttown  Education   1977-04-12\n",
              "5998  239-62-7143   M                0  ...  North Judithbury     NewCar   1966-06-12\n",
              "5999  367-72-7571   F                0  ...  North Judithbury    UsedCar   1979-06-29\n",
              "\n",
              "[6000 rows x 17 columns]"
            ]
          },
          "metadata": {},
          "execution_count": 183
        }
      ]
    },
    {
      "cell_type": "code",
      "metadata": {
        "id": "MkoOUTyJ7MIL"
      },
      "source": [
        "#Make a Copy of Training Set\n",
        "X_train_1 = X_train.copy()"
      ],
      "execution_count": null,
      "outputs": []
    },
    {
      "cell_type": "code",
      "metadata": {
        "colab": {
          "base_uri": "https://localhost:8080/",
          "height": 206
        },
        "id": "3nW0HinjILVt",
        "outputId": "089609b3-e9a2-47d7-c482-d495b80418d3"
      },
      "source": [
        "#Drop unimportant features\n",
        "\n",
        "X_train_1.drop(columns=['UserID',\n",
        "                   'FirstName',\n",
        "                   'LastName',\n",
        "                   'Street',\n",
        "                   'LicensePlate',\n",
        "                  'DateOfBirth'], inplace= True)\n",
        "X_train_1.head()"
      ],
      "execution_count": null,
      "outputs": [
        {
          "output_type": "execute_result",
          "data": {
            "text/html": [
              "<div>\n",
              "<style scoped>\n",
              "    .dataframe tbody tr th:only-of-type {\n",
              "        vertical-align: middle;\n",
              "    }\n",
              "\n",
              "    .dataframe tbody tr th {\n",
              "        vertical-align: top;\n",
              "    }\n",
              "\n",
              "    .dataframe thead th {\n",
              "        text-align: right;\n",
              "    }\n",
              "</style>\n",
              "<table border=\"1\" class=\"dataframe\">\n",
              "  <thead>\n",
              "    <tr style=\"text-align: right;\">\n",
              "      <th></th>\n",
              "      <th>Sex</th>\n",
              "      <th>PreviousDefault</th>\n",
              "      <th>NumberPets</th>\n",
              "      <th>PreviousAccounts</th>\n",
              "      <th>ResidenceDuration</th>\n",
              "      <th>Amount</th>\n",
              "      <th>Married</th>\n",
              "      <th>Duration</th>\n",
              "      <th>City</th>\n",
              "      <th>Purpose</th>\n",
              "    </tr>\n",
              "  </thead>\n",
              "  <tbody>\n",
              "    <tr>\n",
              "      <th>3897</th>\n",
              "      <td>M</td>\n",
              "      <td>0</td>\n",
              "      <td>2</td>\n",
              "      <td>0</td>\n",
              "      <td>2</td>\n",
              "      <td>3329</td>\n",
              "      <td>0</td>\n",
              "      <td>12</td>\n",
              "      <td>New Roberttown</td>\n",
              "      <td>Household</td>\n",
              "    </tr>\n",
              "    <tr>\n",
              "      <th>5628</th>\n",
              "      <td>F</td>\n",
              "      <td>0</td>\n",
              "      <td>0</td>\n",
              "      <td>2</td>\n",
              "      <td>2</td>\n",
              "      <td>2996</td>\n",
              "      <td>0</td>\n",
              "      <td>36</td>\n",
              "      <td>Ericmouth</td>\n",
              "      <td>Household</td>\n",
              "    </tr>\n",
              "    <tr>\n",
              "      <th>1756</th>\n",
              "      <td>F</td>\n",
              "      <td>0</td>\n",
              "      <td>2</td>\n",
              "      <td>0</td>\n",
              "      <td>3</td>\n",
              "      <td>2470</td>\n",
              "      <td>0</td>\n",
              "      <td>24</td>\n",
              "      <td>East Jill</td>\n",
              "      <td>NewCar</td>\n",
              "    </tr>\n",
              "    <tr>\n",
              "      <th>2346</th>\n",
              "      <td>F</td>\n",
              "      <td>0</td>\n",
              "      <td>2</td>\n",
              "      <td>1</td>\n",
              "      <td>2</td>\n",
              "      <td>3745</td>\n",
              "      <td>0</td>\n",
              "      <td>30</td>\n",
              "      <td>Lake Debra</td>\n",
              "      <td>UsedCar</td>\n",
              "    </tr>\n",
              "    <tr>\n",
              "      <th>2996</th>\n",
              "      <td>M</td>\n",
              "      <td>0</td>\n",
              "      <td>0</td>\n",
              "      <td>1</td>\n",
              "      <td>3</td>\n",
              "      <td>3549</td>\n",
              "      <td>0</td>\n",
              "      <td>36</td>\n",
              "      <td>North Judithbury</td>\n",
              "      <td>Vacation</td>\n",
              "    </tr>\n",
              "  </tbody>\n",
              "</table>\n",
              "</div>"
            ],
            "text/plain": [
              "     Sex  PreviousDefault  NumberPets  ...  Duration              City    Purpose\n",
              "3897   M                0           2  ...        12    New Roberttown  Household\n",
              "5628   F                0           0  ...        36         Ericmouth  Household\n",
              "1756   F                0           2  ...        24         East Jill     NewCar\n",
              "2346   F                0           2  ...        30        Lake Debra    UsedCar\n",
              "2996   M                0           0  ...        36  North Judithbury   Vacation\n",
              "\n",
              "[5 rows x 10 columns]"
            ]
          },
          "metadata": {},
          "execution_count": 185
        }
      ]
    },
    {
      "cell_type": "code",
      "metadata": {
        "id": "YEhuRvYX7MxP",
        "colab": {
          "base_uri": "https://localhost:8080/",
          "height": 206
        },
        "outputId": "a0d2b0b0-e400-4859-9487-6880c8d40330"
      },
      "source": [
        "#Encoding on Sex\n",
        "dummy = pd.get_dummies(X_train_1['Sex'])\n",
        "dummy.head()\n",
        "\n",
        "X_train_1 = X_train_1.merge(dummy, left_index=True, right_index=True)\n",
        "X_train_1.head()\n",
        "\n"
      ],
      "execution_count": null,
      "outputs": [
        {
          "output_type": "execute_result",
          "data": {
            "text/html": [
              "<div>\n",
              "<style scoped>\n",
              "    .dataframe tbody tr th:only-of-type {\n",
              "        vertical-align: middle;\n",
              "    }\n",
              "\n",
              "    .dataframe tbody tr th {\n",
              "        vertical-align: top;\n",
              "    }\n",
              "\n",
              "    .dataframe thead th {\n",
              "        text-align: right;\n",
              "    }\n",
              "</style>\n",
              "<table border=\"1\" class=\"dataframe\">\n",
              "  <thead>\n",
              "    <tr style=\"text-align: right;\">\n",
              "      <th></th>\n",
              "      <th>Sex</th>\n",
              "      <th>PreviousDefault</th>\n",
              "      <th>NumberPets</th>\n",
              "      <th>PreviousAccounts</th>\n",
              "      <th>ResidenceDuration</th>\n",
              "      <th>Amount</th>\n",
              "      <th>Married</th>\n",
              "      <th>Duration</th>\n",
              "      <th>City</th>\n",
              "      <th>Purpose</th>\n",
              "      <th>F</th>\n",
              "      <th>M</th>\n",
              "    </tr>\n",
              "  </thead>\n",
              "  <tbody>\n",
              "    <tr>\n",
              "      <th>3897</th>\n",
              "      <td>M</td>\n",
              "      <td>0</td>\n",
              "      <td>2</td>\n",
              "      <td>0</td>\n",
              "      <td>2</td>\n",
              "      <td>3329</td>\n",
              "      <td>0</td>\n",
              "      <td>12</td>\n",
              "      <td>New Roberttown</td>\n",
              "      <td>Household</td>\n",
              "      <td>0</td>\n",
              "      <td>1</td>\n",
              "    </tr>\n",
              "    <tr>\n",
              "      <th>5628</th>\n",
              "      <td>F</td>\n",
              "      <td>0</td>\n",
              "      <td>0</td>\n",
              "      <td>2</td>\n",
              "      <td>2</td>\n",
              "      <td>2996</td>\n",
              "      <td>0</td>\n",
              "      <td>36</td>\n",
              "      <td>Ericmouth</td>\n",
              "      <td>Household</td>\n",
              "      <td>1</td>\n",
              "      <td>0</td>\n",
              "    </tr>\n",
              "    <tr>\n",
              "      <th>1756</th>\n",
              "      <td>F</td>\n",
              "      <td>0</td>\n",
              "      <td>2</td>\n",
              "      <td>0</td>\n",
              "      <td>3</td>\n",
              "      <td>2470</td>\n",
              "      <td>0</td>\n",
              "      <td>24</td>\n",
              "      <td>East Jill</td>\n",
              "      <td>NewCar</td>\n",
              "      <td>1</td>\n",
              "      <td>0</td>\n",
              "    </tr>\n",
              "    <tr>\n",
              "      <th>2346</th>\n",
              "      <td>F</td>\n",
              "      <td>0</td>\n",
              "      <td>2</td>\n",
              "      <td>1</td>\n",
              "      <td>2</td>\n",
              "      <td>3745</td>\n",
              "      <td>0</td>\n",
              "      <td>30</td>\n",
              "      <td>Lake Debra</td>\n",
              "      <td>UsedCar</td>\n",
              "      <td>1</td>\n",
              "      <td>0</td>\n",
              "    </tr>\n",
              "    <tr>\n",
              "      <th>2996</th>\n",
              "      <td>M</td>\n",
              "      <td>0</td>\n",
              "      <td>0</td>\n",
              "      <td>1</td>\n",
              "      <td>3</td>\n",
              "      <td>3549</td>\n",
              "      <td>0</td>\n",
              "      <td>36</td>\n",
              "      <td>North Judithbury</td>\n",
              "      <td>Vacation</td>\n",
              "      <td>0</td>\n",
              "      <td>1</td>\n",
              "    </tr>\n",
              "  </tbody>\n",
              "</table>\n",
              "</div>"
            ],
            "text/plain": [
              "     Sex  PreviousDefault  NumberPets  ...    Purpose  F  M\n",
              "3897   M                0           2  ...  Household  0  1\n",
              "5628   F                0           0  ...  Household  1  0\n",
              "1756   F                0           2  ...     NewCar  1  0\n",
              "2346   F                0           2  ...    UsedCar  1  0\n",
              "2996   M                0           0  ...   Vacation  0  1\n",
              "\n",
              "[5 rows x 12 columns]"
            ]
          },
          "metadata": {},
          "execution_count": 186
        }
      ]
    },
    {
      "cell_type": "code",
      "metadata": {
        "colab": {
          "base_uri": "https://localhost:8080/",
          "height": 206
        },
        "id": "diTWQnEy7Nj9",
        "outputId": "cdcc9d89-8ac2-48ce-ddc1-41391e1c2063"
      },
      "source": [
        "#Rename F & M\n",
        "X_train_1 = X_train_1.rename(columns={'F': 'Female', 'M': 'Male'})\n",
        "X_train_1.head()"
      ],
      "execution_count": null,
      "outputs": [
        {
          "output_type": "execute_result",
          "data": {
            "text/html": [
              "<div>\n",
              "<style scoped>\n",
              "    .dataframe tbody tr th:only-of-type {\n",
              "        vertical-align: middle;\n",
              "    }\n",
              "\n",
              "    .dataframe tbody tr th {\n",
              "        vertical-align: top;\n",
              "    }\n",
              "\n",
              "    .dataframe thead th {\n",
              "        text-align: right;\n",
              "    }\n",
              "</style>\n",
              "<table border=\"1\" class=\"dataframe\">\n",
              "  <thead>\n",
              "    <tr style=\"text-align: right;\">\n",
              "      <th></th>\n",
              "      <th>Sex</th>\n",
              "      <th>PreviousDefault</th>\n",
              "      <th>NumberPets</th>\n",
              "      <th>PreviousAccounts</th>\n",
              "      <th>ResidenceDuration</th>\n",
              "      <th>Amount</th>\n",
              "      <th>Married</th>\n",
              "      <th>Duration</th>\n",
              "      <th>City</th>\n",
              "      <th>Purpose</th>\n",
              "      <th>Female</th>\n",
              "      <th>Male</th>\n",
              "    </tr>\n",
              "  </thead>\n",
              "  <tbody>\n",
              "    <tr>\n",
              "      <th>3897</th>\n",
              "      <td>M</td>\n",
              "      <td>0</td>\n",
              "      <td>2</td>\n",
              "      <td>0</td>\n",
              "      <td>2</td>\n",
              "      <td>3329</td>\n",
              "      <td>0</td>\n",
              "      <td>12</td>\n",
              "      <td>New Roberttown</td>\n",
              "      <td>Household</td>\n",
              "      <td>0</td>\n",
              "      <td>1</td>\n",
              "    </tr>\n",
              "    <tr>\n",
              "      <th>5628</th>\n",
              "      <td>F</td>\n",
              "      <td>0</td>\n",
              "      <td>0</td>\n",
              "      <td>2</td>\n",
              "      <td>2</td>\n",
              "      <td>2996</td>\n",
              "      <td>0</td>\n",
              "      <td>36</td>\n",
              "      <td>Ericmouth</td>\n",
              "      <td>Household</td>\n",
              "      <td>1</td>\n",
              "      <td>0</td>\n",
              "    </tr>\n",
              "    <tr>\n",
              "      <th>1756</th>\n",
              "      <td>F</td>\n",
              "      <td>0</td>\n",
              "      <td>2</td>\n",
              "      <td>0</td>\n",
              "      <td>3</td>\n",
              "      <td>2470</td>\n",
              "      <td>0</td>\n",
              "      <td>24</td>\n",
              "      <td>East Jill</td>\n",
              "      <td>NewCar</td>\n",
              "      <td>1</td>\n",
              "      <td>0</td>\n",
              "    </tr>\n",
              "    <tr>\n",
              "      <th>2346</th>\n",
              "      <td>F</td>\n",
              "      <td>0</td>\n",
              "      <td>2</td>\n",
              "      <td>1</td>\n",
              "      <td>2</td>\n",
              "      <td>3745</td>\n",
              "      <td>0</td>\n",
              "      <td>30</td>\n",
              "      <td>Lake Debra</td>\n",
              "      <td>UsedCar</td>\n",
              "      <td>1</td>\n",
              "      <td>0</td>\n",
              "    </tr>\n",
              "    <tr>\n",
              "      <th>2996</th>\n",
              "      <td>M</td>\n",
              "      <td>0</td>\n",
              "      <td>0</td>\n",
              "      <td>1</td>\n",
              "      <td>3</td>\n",
              "      <td>3549</td>\n",
              "      <td>0</td>\n",
              "      <td>36</td>\n",
              "      <td>North Judithbury</td>\n",
              "      <td>Vacation</td>\n",
              "      <td>0</td>\n",
              "      <td>1</td>\n",
              "    </tr>\n",
              "  </tbody>\n",
              "</table>\n",
              "</div>"
            ],
            "text/plain": [
              "     Sex  PreviousDefault  NumberPets  ...    Purpose  Female  Male\n",
              "3897   M                0           2  ...  Household       0     1\n",
              "5628   F                0           0  ...  Household       1     0\n",
              "1756   F                0           2  ...     NewCar       1     0\n",
              "2346   F                0           2  ...    UsedCar       1     0\n",
              "2996   M                0           0  ...   Vacation       0     1\n",
              "\n",
              "[5 rows x 12 columns]"
            ]
          },
          "metadata": {},
          "execution_count": 187
        }
      ]
    },
    {
      "cell_type": "code",
      "metadata": {
        "id": "VQMHmlvf1Gis"
      },
      "source": [
        "#Drop Sex from the training set\n",
        "X_train_1.drop(columns=['Sex'], inplace= True)"
      ],
      "execution_count": null,
      "outputs": []
    },
    {
      "cell_type": "code",
      "metadata": {
        "colab": {
          "base_uri": "https://localhost:8080/"
        },
        "id": "iNJMEbabGGY2",
        "outputId": "26677183-711a-43e2-eb63-de9d1e6e1097"
      },
      "source": [
        "X_train_1.info()"
      ],
      "execution_count": null,
      "outputs": [
        {
          "output_type": "stream",
          "name": "stdout",
          "text": [
            "<class 'pandas.core.frame.DataFrame'>\n",
            "Int64Index: 4800 entries, 3897 to 860\n",
            "Data columns (total 11 columns):\n",
            " #   Column             Non-Null Count  Dtype \n",
            "---  ------             --------------  ----- \n",
            " 0   PreviousDefault    4800 non-null   int64 \n",
            " 1   NumberPets         4800 non-null   int64 \n",
            " 2   PreviousAccounts   4800 non-null   int64 \n",
            " 3   ResidenceDuration  4800 non-null   int64 \n",
            " 4   Amount             4800 non-null   int64 \n",
            " 5   Married            4800 non-null   int64 \n",
            " 6   Duration           4800 non-null   int64 \n",
            " 7   City               4800 non-null   object\n",
            " 8   Purpose            4800 non-null   object\n",
            " 9   Female             4800 non-null   uint8 \n",
            " 10  Male               4800 non-null   uint8 \n",
            "dtypes: int64(7), object(2), uint8(2)\n",
            "memory usage: 544.4+ KB\n"
          ]
        }
      ]
    },
    {
      "cell_type": "code",
      "metadata": {
        "colab": {
          "base_uri": "https://localhost:8080/"
        },
        "id": "dlwEyue42U3w",
        "outputId": "66f05b75-28eb-4553-f04c-c0f4e97ab26b"
      },
      "source": [
        "X_train_1.City.unique()"
      ],
      "execution_count": null,
      "outputs": [
        {
          "output_type": "execute_result",
          "data": {
            "text/plain": [
              "array(['New Roberttown', 'Ericmouth', 'East Jill', 'Lake Debra',\n",
              "       'North Judithbury', 'Lisatown', 'West Michael', 'East Jessetown',\n",
              "       'Port Jesseville', 'Robinsonshire', 'Lake Chad', 'Ramirezstad',\n",
              "       'Herrerafurt', 'North Noahstad', 'Lake Roberto', 'New Kellystad',\n",
              "       'Cassandraton', 'New Jessica', 'Jacquelineland', 'Port Keith'],\n",
              "      dtype=object)"
            ]
          },
          "metadata": {},
          "execution_count": 190
        }
      ]
    },
    {
      "cell_type": "code",
      "metadata": {
        "colab": {
          "base_uri": "https://localhost:8080/"
        },
        "id": "CC1f7z3xHths",
        "outputId": "24dad213-8aef-4a57-fea8-d2567a231439"
      },
      "source": [
        "X_train_1.Purpose.unique()"
      ],
      "execution_count": null,
      "outputs": [
        {
          "output_type": "execute_result",
          "data": {
            "text/plain": [
              "array(['Household', 'NewCar', 'UsedCar', 'Vacation', 'Other', 'Education',\n",
              "       'Repair', 'Business'], dtype=object)"
            ]
          },
          "metadata": {},
          "execution_count": 191
        }
      ]
    },
    {
      "cell_type": "code",
      "metadata": {
        "id": "F2cdZNY7OLFb"
      },
      "source": [
        "#Create dummy variables for City & Purpose \n",
        "X_train_1 = pd.get_dummies(X_train_1)"
      ],
      "execution_count": null,
      "outputs": []
    },
    {
      "cell_type": "code",
      "metadata": {
        "colab": {
          "base_uri": "https://localhost:8080/",
          "height": 461
        },
        "id": "jpR5qW9MOS1N",
        "outputId": "ff6b5afb-d0cc-4b39-de8e-1163165f9985"
      },
      "source": [
        "X_train_1"
      ],
      "execution_count": null,
      "outputs": [
        {
          "output_type": "execute_result",
          "data": {
            "text/html": [
              "<div>\n",
              "<style scoped>\n",
              "    .dataframe tbody tr th:only-of-type {\n",
              "        vertical-align: middle;\n",
              "    }\n",
              "\n",
              "    .dataframe tbody tr th {\n",
              "        vertical-align: top;\n",
              "    }\n",
              "\n",
              "    .dataframe thead th {\n",
              "        text-align: right;\n",
              "    }\n",
              "</style>\n",
              "<table border=\"1\" class=\"dataframe\">\n",
              "  <thead>\n",
              "    <tr style=\"text-align: right;\">\n",
              "      <th></th>\n",
              "      <th>PreviousDefault</th>\n",
              "      <th>NumberPets</th>\n",
              "      <th>PreviousAccounts</th>\n",
              "      <th>ResidenceDuration</th>\n",
              "      <th>Amount</th>\n",
              "      <th>Married</th>\n",
              "      <th>Duration</th>\n",
              "      <th>Female</th>\n",
              "      <th>Male</th>\n",
              "      <th>City_Cassandraton</th>\n",
              "      <th>City_East Jessetown</th>\n",
              "      <th>City_East Jill</th>\n",
              "      <th>City_Ericmouth</th>\n",
              "      <th>City_Herrerafurt</th>\n",
              "      <th>City_Jacquelineland</th>\n",
              "      <th>City_Lake Chad</th>\n",
              "      <th>City_Lake Debra</th>\n",
              "      <th>City_Lake Roberto</th>\n",
              "      <th>City_Lisatown</th>\n",
              "      <th>City_New Jessica</th>\n",
              "      <th>City_New Kellystad</th>\n",
              "      <th>City_New Roberttown</th>\n",
              "      <th>City_North Judithbury</th>\n",
              "      <th>City_North Noahstad</th>\n",
              "      <th>City_Port Jesseville</th>\n",
              "      <th>City_Port Keith</th>\n",
              "      <th>City_Ramirezstad</th>\n",
              "      <th>City_Robinsonshire</th>\n",
              "      <th>City_West Michael</th>\n",
              "      <th>Purpose_Business</th>\n",
              "      <th>Purpose_Education</th>\n",
              "      <th>Purpose_Household</th>\n",
              "      <th>Purpose_NewCar</th>\n",
              "      <th>Purpose_Other</th>\n",
              "      <th>Purpose_Repair</th>\n",
              "      <th>Purpose_UsedCar</th>\n",
              "      <th>Purpose_Vacation</th>\n",
              "    </tr>\n",
              "  </thead>\n",
              "  <tbody>\n",
              "    <tr>\n",
              "      <th>3897</th>\n",
              "      <td>0</td>\n",
              "      <td>2</td>\n",
              "      <td>0</td>\n",
              "      <td>2</td>\n",
              "      <td>3329</td>\n",
              "      <td>0</td>\n",
              "      <td>12</td>\n",
              "      <td>0</td>\n",
              "      <td>1</td>\n",
              "      <td>0</td>\n",
              "      <td>0</td>\n",
              "      <td>0</td>\n",
              "      <td>0</td>\n",
              "      <td>0</td>\n",
              "      <td>0</td>\n",
              "      <td>0</td>\n",
              "      <td>0</td>\n",
              "      <td>0</td>\n",
              "      <td>0</td>\n",
              "      <td>0</td>\n",
              "      <td>0</td>\n",
              "      <td>1</td>\n",
              "      <td>0</td>\n",
              "      <td>0</td>\n",
              "      <td>0</td>\n",
              "      <td>0</td>\n",
              "      <td>0</td>\n",
              "      <td>0</td>\n",
              "      <td>0</td>\n",
              "      <td>0</td>\n",
              "      <td>0</td>\n",
              "      <td>1</td>\n",
              "      <td>0</td>\n",
              "      <td>0</td>\n",
              "      <td>0</td>\n",
              "      <td>0</td>\n",
              "      <td>0</td>\n",
              "    </tr>\n",
              "    <tr>\n",
              "      <th>5628</th>\n",
              "      <td>0</td>\n",
              "      <td>0</td>\n",
              "      <td>2</td>\n",
              "      <td>2</td>\n",
              "      <td>2996</td>\n",
              "      <td>0</td>\n",
              "      <td>36</td>\n",
              "      <td>1</td>\n",
              "      <td>0</td>\n",
              "      <td>0</td>\n",
              "      <td>0</td>\n",
              "      <td>0</td>\n",
              "      <td>1</td>\n",
              "      <td>0</td>\n",
              "      <td>0</td>\n",
              "      <td>0</td>\n",
              "      <td>0</td>\n",
              "      <td>0</td>\n",
              "      <td>0</td>\n",
              "      <td>0</td>\n",
              "      <td>0</td>\n",
              "      <td>0</td>\n",
              "      <td>0</td>\n",
              "      <td>0</td>\n",
              "      <td>0</td>\n",
              "      <td>0</td>\n",
              "      <td>0</td>\n",
              "      <td>0</td>\n",
              "      <td>0</td>\n",
              "      <td>0</td>\n",
              "      <td>0</td>\n",
              "      <td>1</td>\n",
              "      <td>0</td>\n",
              "      <td>0</td>\n",
              "      <td>0</td>\n",
              "      <td>0</td>\n",
              "      <td>0</td>\n",
              "    </tr>\n",
              "    <tr>\n",
              "      <th>1756</th>\n",
              "      <td>0</td>\n",
              "      <td>2</td>\n",
              "      <td>0</td>\n",
              "      <td>3</td>\n",
              "      <td>2470</td>\n",
              "      <td>0</td>\n",
              "      <td>24</td>\n",
              "      <td>1</td>\n",
              "      <td>0</td>\n",
              "      <td>0</td>\n",
              "      <td>0</td>\n",
              "      <td>1</td>\n",
              "      <td>0</td>\n",
              "      <td>0</td>\n",
              "      <td>0</td>\n",
              "      <td>0</td>\n",
              "      <td>0</td>\n",
              "      <td>0</td>\n",
              "      <td>0</td>\n",
              "      <td>0</td>\n",
              "      <td>0</td>\n",
              "      <td>0</td>\n",
              "      <td>0</td>\n",
              "      <td>0</td>\n",
              "      <td>0</td>\n",
              "      <td>0</td>\n",
              "      <td>0</td>\n",
              "      <td>0</td>\n",
              "      <td>0</td>\n",
              "      <td>0</td>\n",
              "      <td>0</td>\n",
              "      <td>0</td>\n",
              "      <td>1</td>\n",
              "      <td>0</td>\n",
              "      <td>0</td>\n",
              "      <td>0</td>\n",
              "      <td>0</td>\n",
              "    </tr>\n",
              "    <tr>\n",
              "      <th>2346</th>\n",
              "      <td>0</td>\n",
              "      <td>2</td>\n",
              "      <td>1</td>\n",
              "      <td>2</td>\n",
              "      <td>3745</td>\n",
              "      <td>0</td>\n",
              "      <td>30</td>\n",
              "      <td>1</td>\n",
              "      <td>0</td>\n",
              "      <td>0</td>\n",
              "      <td>0</td>\n",
              "      <td>0</td>\n",
              "      <td>0</td>\n",
              "      <td>0</td>\n",
              "      <td>0</td>\n",
              "      <td>0</td>\n",
              "      <td>1</td>\n",
              "      <td>0</td>\n",
              "      <td>0</td>\n",
              "      <td>0</td>\n",
              "      <td>0</td>\n",
              "      <td>0</td>\n",
              "      <td>0</td>\n",
              "      <td>0</td>\n",
              "      <td>0</td>\n",
              "      <td>0</td>\n",
              "      <td>0</td>\n",
              "      <td>0</td>\n",
              "      <td>0</td>\n",
              "      <td>0</td>\n",
              "      <td>0</td>\n",
              "      <td>0</td>\n",
              "      <td>0</td>\n",
              "      <td>0</td>\n",
              "      <td>0</td>\n",
              "      <td>1</td>\n",
              "      <td>0</td>\n",
              "    </tr>\n",
              "    <tr>\n",
              "      <th>2996</th>\n",
              "      <td>0</td>\n",
              "      <td>0</td>\n",
              "      <td>1</td>\n",
              "      <td>3</td>\n",
              "      <td>3549</td>\n",
              "      <td>0</td>\n",
              "      <td>36</td>\n",
              "      <td>0</td>\n",
              "      <td>1</td>\n",
              "      <td>0</td>\n",
              "      <td>0</td>\n",
              "      <td>0</td>\n",
              "      <td>0</td>\n",
              "      <td>0</td>\n",
              "      <td>0</td>\n",
              "      <td>0</td>\n",
              "      <td>0</td>\n",
              "      <td>0</td>\n",
              "      <td>0</td>\n",
              "      <td>0</td>\n",
              "      <td>0</td>\n",
              "      <td>0</td>\n",
              "      <td>1</td>\n",
              "      <td>0</td>\n",
              "      <td>0</td>\n",
              "      <td>0</td>\n",
              "      <td>0</td>\n",
              "      <td>0</td>\n",
              "      <td>0</td>\n",
              "      <td>0</td>\n",
              "      <td>0</td>\n",
              "      <td>0</td>\n",
              "      <td>0</td>\n",
              "      <td>0</td>\n",
              "      <td>0</td>\n",
              "      <td>0</td>\n",
              "      <td>1</td>\n",
              "    </tr>\n",
              "    <tr>\n",
              "      <th>...</th>\n",
              "      <td>...</td>\n",
              "      <td>...</td>\n",
              "      <td>...</td>\n",
              "      <td>...</td>\n",
              "      <td>...</td>\n",
              "      <td>...</td>\n",
              "      <td>...</td>\n",
              "      <td>...</td>\n",
              "      <td>...</td>\n",
              "      <td>...</td>\n",
              "      <td>...</td>\n",
              "      <td>...</td>\n",
              "      <td>...</td>\n",
              "      <td>...</td>\n",
              "      <td>...</td>\n",
              "      <td>...</td>\n",
              "      <td>...</td>\n",
              "      <td>...</td>\n",
              "      <td>...</td>\n",
              "      <td>...</td>\n",
              "      <td>...</td>\n",
              "      <td>...</td>\n",
              "      <td>...</td>\n",
              "      <td>...</td>\n",
              "      <td>...</td>\n",
              "      <td>...</td>\n",
              "      <td>...</td>\n",
              "      <td>...</td>\n",
              "      <td>...</td>\n",
              "      <td>...</td>\n",
              "      <td>...</td>\n",
              "      <td>...</td>\n",
              "      <td>...</td>\n",
              "      <td>...</td>\n",
              "      <td>...</td>\n",
              "      <td>...</td>\n",
              "      <td>...</td>\n",
              "    </tr>\n",
              "    <tr>\n",
              "      <th>3772</th>\n",
              "      <td>0</td>\n",
              "      <td>0</td>\n",
              "      <td>1</td>\n",
              "      <td>1</td>\n",
              "      <td>3607</td>\n",
              "      <td>1</td>\n",
              "      <td>24</td>\n",
              "      <td>1</td>\n",
              "      <td>0</td>\n",
              "      <td>0</td>\n",
              "      <td>0</td>\n",
              "      <td>0</td>\n",
              "      <td>0</td>\n",
              "      <td>0</td>\n",
              "      <td>0</td>\n",
              "      <td>0</td>\n",
              "      <td>0</td>\n",
              "      <td>0</td>\n",
              "      <td>0</td>\n",
              "      <td>0</td>\n",
              "      <td>0</td>\n",
              "      <td>0</td>\n",
              "      <td>0</td>\n",
              "      <td>0</td>\n",
              "      <td>0</td>\n",
              "      <td>0</td>\n",
              "      <td>0</td>\n",
              "      <td>1</td>\n",
              "      <td>0</td>\n",
              "      <td>0</td>\n",
              "      <td>0</td>\n",
              "      <td>0</td>\n",
              "      <td>1</td>\n",
              "      <td>0</td>\n",
              "      <td>0</td>\n",
              "      <td>0</td>\n",
              "      <td>0</td>\n",
              "    </tr>\n",
              "    <tr>\n",
              "      <th>5191</th>\n",
              "      <td>0</td>\n",
              "      <td>2</td>\n",
              "      <td>1</td>\n",
              "      <td>0</td>\n",
              "      <td>3186</td>\n",
              "      <td>0</td>\n",
              "      <td>30</td>\n",
              "      <td>1</td>\n",
              "      <td>0</td>\n",
              "      <td>0</td>\n",
              "      <td>0</td>\n",
              "      <td>0</td>\n",
              "      <td>0</td>\n",
              "      <td>0</td>\n",
              "      <td>0</td>\n",
              "      <td>0</td>\n",
              "      <td>0</td>\n",
              "      <td>0</td>\n",
              "      <td>0</td>\n",
              "      <td>0</td>\n",
              "      <td>0</td>\n",
              "      <td>0</td>\n",
              "      <td>1</td>\n",
              "      <td>0</td>\n",
              "      <td>0</td>\n",
              "      <td>0</td>\n",
              "      <td>0</td>\n",
              "      <td>0</td>\n",
              "      <td>0</td>\n",
              "      <td>0</td>\n",
              "      <td>0</td>\n",
              "      <td>0</td>\n",
              "      <td>1</td>\n",
              "      <td>0</td>\n",
              "      <td>0</td>\n",
              "      <td>0</td>\n",
              "      <td>0</td>\n",
              "    </tr>\n",
              "    <tr>\n",
              "      <th>5226</th>\n",
              "      <td>0</td>\n",
              "      <td>2</td>\n",
              "      <td>1</td>\n",
              "      <td>3</td>\n",
              "      <td>2387</td>\n",
              "      <td>1</td>\n",
              "      <td>36</td>\n",
              "      <td>1</td>\n",
              "      <td>0</td>\n",
              "      <td>0</td>\n",
              "      <td>0</td>\n",
              "      <td>0</td>\n",
              "      <td>0</td>\n",
              "      <td>0</td>\n",
              "      <td>0</td>\n",
              "      <td>0</td>\n",
              "      <td>0</td>\n",
              "      <td>1</td>\n",
              "      <td>0</td>\n",
              "      <td>0</td>\n",
              "      <td>0</td>\n",
              "      <td>0</td>\n",
              "      <td>0</td>\n",
              "      <td>0</td>\n",
              "      <td>0</td>\n",
              "      <td>0</td>\n",
              "      <td>0</td>\n",
              "      <td>0</td>\n",
              "      <td>0</td>\n",
              "      <td>1</td>\n",
              "      <td>0</td>\n",
              "      <td>0</td>\n",
              "      <td>0</td>\n",
              "      <td>0</td>\n",
              "      <td>0</td>\n",
              "      <td>0</td>\n",
              "      <td>0</td>\n",
              "    </tr>\n",
              "    <tr>\n",
              "      <th>5390</th>\n",
              "      <td>0</td>\n",
              "      <td>1</td>\n",
              "      <td>1</td>\n",
              "      <td>3</td>\n",
              "      <td>3620</td>\n",
              "      <td>0</td>\n",
              "      <td>12</td>\n",
              "      <td>1</td>\n",
              "      <td>0</td>\n",
              "      <td>0</td>\n",
              "      <td>0</td>\n",
              "      <td>0</td>\n",
              "      <td>0</td>\n",
              "      <td>0</td>\n",
              "      <td>0</td>\n",
              "      <td>0</td>\n",
              "      <td>1</td>\n",
              "      <td>0</td>\n",
              "      <td>0</td>\n",
              "      <td>0</td>\n",
              "      <td>0</td>\n",
              "      <td>0</td>\n",
              "      <td>0</td>\n",
              "      <td>0</td>\n",
              "      <td>0</td>\n",
              "      <td>0</td>\n",
              "      <td>0</td>\n",
              "      <td>0</td>\n",
              "      <td>0</td>\n",
              "      <td>0</td>\n",
              "      <td>0</td>\n",
              "      <td>0</td>\n",
              "      <td>0</td>\n",
              "      <td>1</td>\n",
              "      <td>0</td>\n",
              "      <td>0</td>\n",
              "      <td>0</td>\n",
              "    </tr>\n",
              "    <tr>\n",
              "      <th>860</th>\n",
              "      <td>0</td>\n",
              "      <td>1</td>\n",
              "      <td>2</td>\n",
              "      <td>0</td>\n",
              "      <td>4106</td>\n",
              "      <td>0</td>\n",
              "      <td>30</td>\n",
              "      <td>1</td>\n",
              "      <td>0</td>\n",
              "      <td>0</td>\n",
              "      <td>0</td>\n",
              "      <td>0</td>\n",
              "      <td>0</td>\n",
              "      <td>0</td>\n",
              "      <td>0</td>\n",
              "      <td>0</td>\n",
              "      <td>0</td>\n",
              "      <td>0</td>\n",
              "      <td>0</td>\n",
              "      <td>0</td>\n",
              "      <td>0</td>\n",
              "      <td>0</td>\n",
              "      <td>1</td>\n",
              "      <td>0</td>\n",
              "      <td>0</td>\n",
              "      <td>0</td>\n",
              "      <td>0</td>\n",
              "      <td>0</td>\n",
              "      <td>0</td>\n",
              "      <td>0</td>\n",
              "      <td>0</td>\n",
              "      <td>0</td>\n",
              "      <td>1</td>\n",
              "      <td>0</td>\n",
              "      <td>0</td>\n",
              "      <td>0</td>\n",
              "      <td>0</td>\n",
              "    </tr>\n",
              "  </tbody>\n",
              "</table>\n",
              "<p>4800 rows × 37 columns</p>\n",
              "</div>"
            ],
            "text/plain": [
              "      PreviousDefault  NumberPets  ...  Purpose_UsedCar  Purpose_Vacation\n",
              "3897                0           2  ...                0                 0\n",
              "5628                0           0  ...                0                 0\n",
              "1756                0           2  ...                0                 0\n",
              "2346                0           2  ...                1                 0\n",
              "2996                0           0  ...                0                 1\n",
              "...               ...         ...  ...              ...               ...\n",
              "3772                0           0  ...                0                 0\n",
              "5191                0           2  ...                0                 0\n",
              "5226                0           2  ...                0                 0\n",
              "5390                0           1  ...                0                 0\n",
              "860                 0           1  ...                0                 0\n",
              "\n",
              "[4800 rows x 37 columns]"
            ]
          },
          "metadata": {},
          "execution_count": 193
        }
      ]
    },
    {
      "cell_type": "code",
      "metadata": {
        "colab": {
          "base_uri": "https://localhost:8080/"
        },
        "id": "mjZ617zII_QS",
        "outputId": "870565bc-eae8-4af1-83f4-4601eee9628f"
      },
      "source": [
        "from sklearn.tree import DecisionTreeClassifier\n",
        "dtc = DecisionTreeClassifier()\n",
        "dtc.fit(X_train_1, y_train)"
      ],
      "execution_count": null,
      "outputs": [
        {
          "output_type": "execute_result",
          "data": {
            "text/plain": [
              "DecisionTreeClassifier()"
            ]
          },
          "metadata": {},
          "execution_count": 194
        }
      ]
    },
    {
      "cell_type": "code",
      "metadata": {
        "id": "dUsJg5iYRaI1"
      },
      "source": [
        "#KFold CV\n",
        "def kfold_(dtc_, X_train_, y_train_):\n",
        "    cv = KFold(n_splits=10, random_state=1, shuffle=True)\n",
        "\n",
        "\n",
        "    scoring = {'accuracy' : make_scorer(accuracy_score), 'precision' : make_scorer(precision_score),'recall' : make_scorer(recall_score),'f1_score' : make_scorer(f1_score)}\n",
        "\n",
        "    # Model Evaluation\n",
        "    scores = cross_validate(dtc_, X_train_, y_train_, scoring=scoring, cv=cv)\n",
        "\n",
        "    # Model Scores\n",
        "    for k,v in scores.items():\n",
        "        print('Mean', k,':',' %.3f (%.3f)' % (np.mean(scores[k]), np.std(scores[k])))"
      ],
      "execution_count": null,
      "outputs": []
    },
    {
      "cell_type": "code",
      "metadata": {
        "colab": {
          "base_uri": "https://localhost:8080/"
        },
        "id": "TcUvyKUmTAeX",
        "outputId": "56784540-4e6c-49c1-e975-f7045a40104a"
      },
      "source": [
        "kfold_(dtc,X_train_1,y_train)"
      ],
      "execution_count": null,
      "outputs": [
        {
          "output_type": "stream",
          "name": "stdout",
          "text": [
            "Mean fit_time :  0.025 (0.002)\n",
            "Mean score_time :  0.006 (0.001)\n",
            "Mean test_accuracy :  0.773 (0.011)\n",
            "Mean test_precision :  0.355 (0.057)\n",
            "Mean test_recall :  0.399 (0.072)\n",
            "Mean test_f1_score :  0.374 (0.057)\n"
          ]
        }
      ]
    },
    {
      "cell_type": "code",
      "source": [
        "log_reg = LogisticRegression()\n",
        "log_reg.fit(X_train_1, y_train)"
      ],
      "metadata": {
        "colab": {
          "base_uri": "https://localhost:8080/"
        },
        "id": "fci6TkUt_ysp",
        "outputId": "1acb1443-8d9b-4885-b7f9-9edda6c353fd"
      },
      "execution_count": null,
      "outputs": [
        {
          "output_type": "stream",
          "name": "stderr",
          "text": [
            "/usr/local/lib/python3.7/dist-packages/sklearn/linear_model/_logistic.py:818: ConvergenceWarning: lbfgs failed to converge (status=1):\n",
            "STOP: TOTAL NO. of ITERATIONS REACHED LIMIT.\n",
            "\n",
            "Increase the number of iterations (max_iter) or scale the data as shown in:\n",
            "    https://scikit-learn.org/stable/modules/preprocessing.html\n",
            "Please also refer to the documentation for alternative solver options:\n",
            "    https://scikit-learn.org/stable/modules/linear_model.html#logistic-regression\n",
            "  extra_warning_msg=_LOGISTIC_SOLVER_CONVERGENCE_MSG,\n"
          ]
        },
        {
          "output_type": "execute_result",
          "data": {
            "text/plain": [
              "LogisticRegression()"
            ]
          },
          "metadata": {},
          "execution_count": 197
        }
      ]
    },
    {
      "cell_type": "code",
      "source": [
        "kfold_(log_reg,X_train_1,y_train)"
      ],
      "metadata": {
        "colab": {
          "base_uri": "https://localhost:8080/"
        },
        "id": "pYRkbuJeAFUF",
        "outputId": "166ddb20-2615-49b9-e299-5cb7e4d2d3eb"
      },
      "execution_count": null,
      "outputs": [
        {
          "output_type": "stream",
          "name": "stderr",
          "text": [
            "/usr/local/lib/python3.7/dist-packages/sklearn/linear_model/_logistic.py:818: ConvergenceWarning: lbfgs failed to converge (status=1):\n",
            "STOP: TOTAL NO. of ITERATIONS REACHED LIMIT.\n",
            "\n",
            "Increase the number of iterations (max_iter) or scale the data as shown in:\n",
            "    https://scikit-learn.org/stable/modules/preprocessing.html\n",
            "Please also refer to the documentation for alternative solver options:\n",
            "    https://scikit-learn.org/stable/modules/linear_model.html#logistic-regression\n",
            "  extra_warning_msg=_LOGISTIC_SOLVER_CONVERGENCE_MSG,\n",
            "/usr/local/lib/python3.7/dist-packages/sklearn/linear_model/_logistic.py:818: ConvergenceWarning: lbfgs failed to converge (status=1):\n",
            "STOP: TOTAL NO. of ITERATIONS REACHED LIMIT.\n",
            "\n",
            "Increase the number of iterations (max_iter) or scale the data as shown in:\n",
            "    https://scikit-learn.org/stable/modules/preprocessing.html\n",
            "Please also refer to the documentation for alternative solver options:\n",
            "    https://scikit-learn.org/stable/modules/linear_model.html#logistic-regression\n",
            "  extra_warning_msg=_LOGISTIC_SOLVER_CONVERGENCE_MSG,\n",
            "/usr/local/lib/python3.7/dist-packages/sklearn/linear_model/_logistic.py:818: ConvergenceWarning: lbfgs failed to converge (status=1):\n",
            "STOP: TOTAL NO. of ITERATIONS REACHED LIMIT.\n",
            "\n",
            "Increase the number of iterations (max_iter) or scale the data as shown in:\n",
            "    https://scikit-learn.org/stable/modules/preprocessing.html\n",
            "Please also refer to the documentation for alternative solver options:\n",
            "    https://scikit-learn.org/stable/modules/linear_model.html#logistic-regression\n",
            "  extra_warning_msg=_LOGISTIC_SOLVER_CONVERGENCE_MSG,\n",
            "/usr/local/lib/python3.7/dist-packages/sklearn/linear_model/_logistic.py:818: ConvergenceWarning: lbfgs failed to converge (status=1):\n",
            "STOP: TOTAL NO. of ITERATIONS REACHED LIMIT.\n",
            "\n",
            "Increase the number of iterations (max_iter) or scale the data as shown in:\n",
            "    https://scikit-learn.org/stable/modules/preprocessing.html\n",
            "Please also refer to the documentation for alternative solver options:\n",
            "    https://scikit-learn.org/stable/modules/linear_model.html#logistic-regression\n",
            "  extra_warning_msg=_LOGISTIC_SOLVER_CONVERGENCE_MSG,\n",
            "/usr/local/lib/python3.7/dist-packages/sklearn/linear_model/_logistic.py:818: ConvergenceWarning: lbfgs failed to converge (status=1):\n",
            "STOP: TOTAL NO. of ITERATIONS REACHED LIMIT.\n",
            "\n",
            "Increase the number of iterations (max_iter) or scale the data as shown in:\n",
            "    https://scikit-learn.org/stable/modules/preprocessing.html\n",
            "Please also refer to the documentation for alternative solver options:\n",
            "    https://scikit-learn.org/stable/modules/linear_model.html#logistic-regression\n",
            "  extra_warning_msg=_LOGISTIC_SOLVER_CONVERGENCE_MSG,\n",
            "/usr/local/lib/python3.7/dist-packages/sklearn/linear_model/_logistic.py:818: ConvergenceWarning: lbfgs failed to converge (status=1):\n",
            "STOP: TOTAL NO. of ITERATIONS REACHED LIMIT.\n",
            "\n",
            "Increase the number of iterations (max_iter) or scale the data as shown in:\n",
            "    https://scikit-learn.org/stable/modules/preprocessing.html\n",
            "Please also refer to the documentation for alternative solver options:\n",
            "    https://scikit-learn.org/stable/modules/linear_model.html#logistic-regression\n",
            "  extra_warning_msg=_LOGISTIC_SOLVER_CONVERGENCE_MSG,\n",
            "/usr/local/lib/python3.7/dist-packages/sklearn/linear_model/_logistic.py:818: ConvergenceWarning: lbfgs failed to converge (status=1):\n",
            "STOP: TOTAL NO. of ITERATIONS REACHED LIMIT.\n",
            "\n",
            "Increase the number of iterations (max_iter) or scale the data as shown in:\n",
            "    https://scikit-learn.org/stable/modules/preprocessing.html\n",
            "Please also refer to the documentation for alternative solver options:\n",
            "    https://scikit-learn.org/stable/modules/linear_model.html#logistic-regression\n",
            "  extra_warning_msg=_LOGISTIC_SOLVER_CONVERGENCE_MSG,\n",
            "/usr/local/lib/python3.7/dist-packages/sklearn/linear_model/_logistic.py:818: ConvergenceWarning: lbfgs failed to converge (status=1):\n",
            "STOP: TOTAL NO. of ITERATIONS REACHED LIMIT.\n",
            "\n",
            "Increase the number of iterations (max_iter) or scale the data as shown in:\n",
            "    https://scikit-learn.org/stable/modules/preprocessing.html\n",
            "Please also refer to the documentation for alternative solver options:\n",
            "    https://scikit-learn.org/stable/modules/linear_model.html#logistic-regression\n",
            "  extra_warning_msg=_LOGISTIC_SOLVER_CONVERGENCE_MSG,\n"
          ]
        },
        {
          "output_type": "stream",
          "name": "stdout",
          "text": [
            "Mean fit_time :  0.150 (0.016)\n",
            "Mean score_time :  0.010 (0.001)\n",
            "Mean test_accuracy :  0.826 (0.019)\n",
            "Mean test_precision :  0.488 (0.190)\n",
            "Mean test_recall :  0.104 (0.066)\n",
            "Mean test_f1_score :  0.164 (0.090)\n"
          ]
        },
        {
          "output_type": "stream",
          "name": "stderr",
          "text": [
            "/usr/local/lib/python3.7/dist-packages/sklearn/linear_model/_logistic.py:818: ConvergenceWarning: lbfgs failed to converge (status=1):\n",
            "STOP: TOTAL NO. of ITERATIONS REACHED LIMIT.\n",
            "\n",
            "Increase the number of iterations (max_iter) or scale the data as shown in:\n",
            "    https://scikit-learn.org/stable/modules/preprocessing.html\n",
            "Please also refer to the documentation for alternative solver options:\n",
            "    https://scikit-learn.org/stable/modules/linear_model.html#logistic-regression\n",
            "  extra_warning_msg=_LOGISTIC_SOLVER_CONVERGENCE_MSG,\n",
            "/usr/local/lib/python3.7/dist-packages/sklearn/linear_model/_logistic.py:818: ConvergenceWarning: lbfgs failed to converge (status=1):\n",
            "STOP: TOTAL NO. of ITERATIONS REACHED LIMIT.\n",
            "\n",
            "Increase the number of iterations (max_iter) or scale the data as shown in:\n",
            "    https://scikit-learn.org/stable/modules/preprocessing.html\n",
            "Please also refer to the documentation for alternative solver options:\n",
            "    https://scikit-learn.org/stable/modules/linear_model.html#logistic-regression\n",
            "  extra_warning_msg=_LOGISTIC_SOLVER_CONVERGENCE_MSG,\n"
          ]
        }
      ]
    },
    {
      "cell_type": "markdown",
      "metadata": {
        "id": "ugyTS51Ko5vz"
      },
      "source": [
        "## 3.2: Feature engineering"
      ]
    },
    {
      "cell_type": "code",
      "metadata": {
        "id": "mSumAZUAo9O6"
      },
      "source": [
        "#Get 'DOB' back in Training \n",
        "X_train_1['DateOfBirth'] = pd.to_datetime(X_train.DateOfBirth)"
      ],
      "execution_count": null,
      "outputs": []
    },
    {
      "cell_type": "code",
      "metadata": {
        "id": "U-UK0ytHw1EF"
      },
      "source": [
        "#Generate 'Age' feature in Training \n",
        "from datetime import datetime\n",
        "today = datetime.today()\n",
        "X_train_1['Age'] = X_train_1['DateOfBirth'].apply(lambda x: today.year - x.year - ((today.month, today.day) < (x.month, x.day)))\n",
        "X_train_1 = X_train_1.drop(['DateOfBirth'], axis=1)"
      ],
      "execution_count": null,
      "outputs": []
    },
    {
      "cell_type": "code",
      "metadata": {
        "id": "rE9gEVWAw2rm",
        "colab": {
          "base_uri": "https://localhost:8080/"
        },
        "outputId": "ddfdb12e-cd7c-40ed-d729-2a45e5b55a6b"
      },
      "source": [
        "X_train_1.info()"
      ],
      "execution_count": null,
      "outputs": [
        {
          "output_type": "stream",
          "name": "stdout",
          "text": [
            "<class 'pandas.core.frame.DataFrame'>\n",
            "Int64Index: 4800 entries, 3897 to 860\n",
            "Data columns (total 38 columns):\n",
            " #   Column                 Non-Null Count  Dtype\n",
            "---  ------                 --------------  -----\n",
            " 0   PreviousDefault        4800 non-null   int64\n",
            " 1   NumberPets             4800 non-null   int64\n",
            " 2   PreviousAccounts       4800 non-null   int64\n",
            " 3   ResidenceDuration      4800 non-null   int64\n",
            " 4   Amount                 4800 non-null   int64\n",
            " 5   Married                4800 non-null   int64\n",
            " 6   Duration               4800 non-null   int64\n",
            " 7   Female                 4800 non-null   uint8\n",
            " 8   Male                   4800 non-null   uint8\n",
            " 9   City_Cassandraton      4800 non-null   uint8\n",
            " 10  City_East Jessetown    4800 non-null   uint8\n",
            " 11  City_East Jill         4800 non-null   uint8\n",
            " 12  City_Ericmouth         4800 non-null   uint8\n",
            " 13  City_Herrerafurt       4800 non-null   uint8\n",
            " 14  City_Jacquelineland    4800 non-null   uint8\n",
            " 15  City_Lake Chad         4800 non-null   uint8\n",
            " 16  City_Lake Debra        4800 non-null   uint8\n",
            " 17  City_Lake Roberto      4800 non-null   uint8\n",
            " 18  City_Lisatown          4800 non-null   uint8\n",
            " 19  City_New Jessica       4800 non-null   uint8\n",
            " 20  City_New Kellystad     4800 non-null   uint8\n",
            " 21  City_New Roberttown    4800 non-null   uint8\n",
            " 22  City_North Judithbury  4800 non-null   uint8\n",
            " 23  City_North Noahstad    4800 non-null   uint8\n",
            " 24  City_Port Jesseville   4800 non-null   uint8\n",
            " 25  City_Port Keith        4800 non-null   uint8\n",
            " 26  City_Ramirezstad       4800 non-null   uint8\n",
            " 27  City_Robinsonshire     4800 non-null   uint8\n",
            " 28  City_West Michael      4800 non-null   uint8\n",
            " 29  Purpose_Business       4800 non-null   uint8\n",
            " 30  Purpose_Education      4800 non-null   uint8\n",
            " 31  Purpose_Household      4800 non-null   uint8\n",
            " 32  Purpose_NewCar         4800 non-null   uint8\n",
            " 33  Purpose_Other          4800 non-null   uint8\n",
            " 34  Purpose_Repair         4800 non-null   uint8\n",
            " 35  Purpose_UsedCar        4800 non-null   uint8\n",
            " 36  Purpose_Vacation       4800 non-null   uint8\n",
            " 37  Age                    4800 non-null   int64\n",
            "dtypes: int64(8), uint8(30)\n",
            "memory usage: 638.1 KB\n"
          ]
        }
      ]
    },
    {
      "cell_type": "code",
      "source": [
        "sns.heatmap(df3.corr())"
      ],
      "metadata": {
        "colab": {
          "base_uri": "https://localhost:8080/",
          "height": 384
        },
        "id": "m663udrtvhQt",
        "outputId": "865f96e9-4387-4ce9-ec0d-a8d172f1554e"
      },
      "execution_count": null,
      "outputs": [
        {
          "output_type": "execute_result",
          "data": {
            "text/plain": [
              "<matplotlib.axes._subplots.AxesSubplot at 0x7f9abd959210>"
            ]
          },
          "metadata": {},
          "execution_count": 202
        },
        {
          "output_type": "display_data",
          "data": {
            "image/png": "[encoded data removed]",
            "text/plain": [
              "<Figure size 432x288 with 2 Axes>"
            ]
          },
          "metadata": {}
        }
      ]
    },
    {
      "cell_type": "markdown",
      "source": [
        "###Marginal Corelation between Amount and BadCredit (Outcome) "
      ],
      "metadata": {
        "id": "eZQFWrtSv4Dx"
      }
    },
    {
      "cell_type": "code",
      "metadata": {
        "colab": {
          "base_uri": "https://localhost:8080/"
        },
        "id": "lWUTI5HUMYcp",
        "outputId": "743e96b9-9c25-4ffd-adb3-8d3f5445d682"
      },
      "source": [
        "from sklearn.tree import DecisionTreeClassifier\n",
        "dtc = DecisionTreeClassifier()\n",
        "dtc.fit(X_train_1, y_train)"
      ],
      "execution_count": null,
      "outputs": [
        {
          "output_type": "execute_result",
          "data": {
            "text/plain": [
              "DecisionTreeClassifier()"
            ]
          },
          "metadata": {},
          "execution_count": 203
        }
      ]
    },
    {
      "cell_type": "code",
      "metadata": {
        "id": "16a3VH3SMYz4"
      },
      "source": [
        "#KFold CV\n",
        "def kfold_(dtc_, X_train_, y_train_):\n",
        "    cv = KFold(n_splits=10, random_state=1, shuffle=True)\n",
        "\n",
        "\n",
        "    scoring = {'accuracy' : make_scorer(accuracy_score), 'precision' : make_scorer(precision_score),'recall' : make_scorer(recall_score),'f1_score' : make_scorer(f1_score)}\n",
        "\n",
        "    # Model Evaluation\n",
        "    scores = cross_validate(dtc_, X_train_, y_train_, scoring=scoring, cv=cv)\n",
        "\n",
        "    # Model Scores\n",
        "    for k,v in scores.items():\n",
        "        print('Mean', k,':',' %.3f (%.3f)' % (np.mean(scores[k]), np.std(scores[k])))"
      ],
      "execution_count": null,
      "outputs": []
    },
    {
      "cell_type": "code",
      "metadata": {
        "colab": {
          "base_uri": "https://localhost:8080/"
        },
        "id": "cTvm8bnoMZHJ",
        "outputId": "e9ea9617-f38b-457d-bfbc-a5e676e56bd1"
      },
      "source": [
        "kfold_(dtc,X_train_1,y_train)"
      ],
      "execution_count": null,
      "outputs": [
        {
          "output_type": "stream",
          "name": "stdout",
          "text": [
            "Mean fit_time :  0.023 (0.002)\n",
            "Mean score_time :  0.006 (0.001)\n",
            "Mean test_accuracy :  0.843 (0.012)\n",
            "Mean test_precision :  0.547 (0.053)\n",
            "Mean test_recall :  0.529 (0.040)\n",
            "Mean test_f1_score :  0.535 (0.027)\n"
          ]
        }
      ]
    },
    {
      "cell_type": "code",
      "metadata": {
        "id": "4imwE0JFMZZh"
      },
      "source": [
        "#Get 'Family Members' feature in Training \n",
        "#Considering Pet/s as one of the Family Member; taking +1 for being married \n",
        "X_train_1['Family Members'] = X_train_1['NumberPets'] + 1 + X_train_1['Married']"
      ],
      "execution_count": null,
      "outputs": []
    },
    {
      "cell_type": "code",
      "metadata": {
        "colab": {
          "base_uri": "https://localhost:8080/"
        },
        "id": "kyPoJJDxXZVu",
        "outputId": "5bfbefb1-fe64-4332-ee19-7d38ff59fbc5"
      },
      "source": [
        "X_train_1.info()"
      ],
      "execution_count": null,
      "outputs": [
        {
          "output_type": "stream",
          "name": "stdout",
          "text": [
            "<class 'pandas.core.frame.DataFrame'>\n",
            "Int64Index: 4800 entries, 3897 to 860\n",
            "Data columns (total 39 columns):\n",
            " #   Column                 Non-Null Count  Dtype\n",
            "---  ------                 --------------  -----\n",
            " 0   PreviousDefault        4800 non-null   int64\n",
            " 1   NumberPets             4800 non-null   int64\n",
            " 2   PreviousAccounts       4800 non-null   int64\n",
            " 3   ResidenceDuration      4800 non-null   int64\n",
            " 4   Amount                 4800 non-null   int64\n",
            " 5   Married                4800 non-null   int64\n",
            " 6   Duration               4800 non-null   int64\n",
            " 7   Female                 4800 non-null   uint8\n",
            " 8   Male                   4800 non-null   uint8\n",
            " 9   City_Cassandraton      4800 non-null   uint8\n",
            " 10  City_East Jessetown    4800 non-null   uint8\n",
            " 11  City_East Jill         4800 non-null   uint8\n",
            " 12  City_Ericmouth         4800 non-null   uint8\n",
            " 13  City_Herrerafurt       4800 non-null   uint8\n",
            " 14  City_Jacquelineland    4800 non-null   uint8\n",
            " 15  City_Lake Chad         4800 non-null   uint8\n",
            " 16  City_Lake Debra        4800 non-null   uint8\n",
            " 17  City_Lake Roberto      4800 non-null   uint8\n",
            " 18  City_Lisatown          4800 non-null   uint8\n",
            " 19  City_New Jessica       4800 non-null   uint8\n",
            " 20  City_New Kellystad     4800 non-null   uint8\n",
            " 21  City_New Roberttown    4800 non-null   uint8\n",
            " 22  City_North Judithbury  4800 non-null   uint8\n",
            " 23  City_North Noahstad    4800 non-null   uint8\n",
            " 24  City_Port Jesseville   4800 non-null   uint8\n",
            " 25  City_Port Keith        4800 non-null   uint8\n",
            " 26  City_Ramirezstad       4800 non-null   uint8\n",
            " 27  City_Robinsonshire     4800 non-null   uint8\n",
            " 28  City_West Michael      4800 non-null   uint8\n",
            " 29  Purpose_Business       4800 non-null   uint8\n",
            " 30  Purpose_Education      4800 non-null   uint8\n",
            " 31  Purpose_Household      4800 non-null   uint8\n",
            " 32  Purpose_NewCar         4800 non-null   uint8\n",
            " 33  Purpose_Other          4800 non-null   uint8\n",
            " 34  Purpose_Repair         4800 non-null   uint8\n",
            " 35  Purpose_UsedCar        4800 non-null   uint8\n",
            " 36  Purpose_Vacation       4800 non-null   uint8\n",
            " 37  Age                    4800 non-null   int64\n",
            " 38  Family Members         4800 non-null   int64\n",
            "dtypes: int64(9), uint8(30)\n",
            "memory usage: 675.6 KB\n"
          ]
        }
      ]
    },
    {
      "cell_type": "code",
      "metadata": {
        "colab": {
          "base_uri": "https://localhost:8080/"
        },
        "id": "F4GaakWnXgOO",
        "outputId": "b622abfd-f56b-44e1-8a9e-b93f39fe2dcb"
      },
      "source": [
        "from sklearn.tree import DecisionTreeClassifier\n",
        "dtc = DecisionTreeClassifier()\n",
        "dtc.fit(X_train_1, y_train)"
      ],
      "execution_count": null,
      "outputs": [
        {
          "output_type": "execute_result",
          "data": {
            "text/plain": [
              "DecisionTreeClassifier()"
            ]
          },
          "metadata": {},
          "execution_count": 208
        }
      ]
    },
    {
      "cell_type": "code",
      "metadata": {
        "id": "8cJNi2LTXghl"
      },
      "source": [
        "#KFold CV\n",
        "def kfold_(dtc_, X_train_, y_train_):\n",
        "    cv = KFold(n_splits=10, random_state=1, shuffle=True)\n",
        "\n",
        "\n",
        "    scoring = {'accuracy' : make_scorer(accuracy_score), 'precision' : make_scorer(precision_score),'recall' : make_scorer(recall_score),'f1_score' : make_scorer(f1_score)}\n",
        "\n",
        "    # Model Evaluation\n",
        "    scores = cross_validate(dtc_, X_train_, y_train_, scoring=scoring, cv=cv)\n",
        "\n",
        "    # Model Scores\n",
        "    for k,v in scores.items():\n",
        "        print('Mean', k,':',' %.3f (%.3f)' % (np.mean(scores[k]), np.std(scores[k])))"
      ],
      "execution_count": null,
      "outputs": []
    },
    {
      "cell_type": "code",
      "metadata": {
        "colab": {
          "base_uri": "https://localhost:8080/"
        },
        "id": "o7YS8OwQXgxj",
        "outputId": "063e9a67-e841-41d2-c85d-c09ed1d13818"
      },
      "source": [
        "kfold_(dtc,X_train_1,y_train)"
      ],
      "execution_count": null,
      "outputs": [
        {
          "output_type": "stream",
          "name": "stdout",
          "text": [
            "Mean fit_time :  0.025 (0.004)\n",
            "Mean score_time :  0.006 (0.000)\n",
            "Mean test_accuracy :  0.845 (0.013)\n",
            "Mean test_precision :  0.552 (0.061)\n",
            "Mean test_recall :  0.550 (0.039)\n",
            "Mean test_f1_score :  0.548 (0.027)\n"
          ]
        }
      ]
    },
    {
      "cell_type": "code",
      "metadata": {
        "id": "szFN56SrXhAv"
      },
      "source": [
        "#Amount & Duration Feature \n",
        "X_train_1['Amt_Duration'] = X_train_1['Amount'] * X_train_1['Duration']"
      ],
      "execution_count": null,
      "outputs": []
    },
    {
      "cell_type": "code",
      "metadata": {
        "colab": {
          "base_uri": "https://localhost:8080/"
        },
        "id": "3lsuEhx7clnt",
        "outputId": "143f8f5b-e98c-4ddc-d147-121d09279cbe"
      },
      "source": [
        "from sklearn.tree import DecisionTreeClassifier\n",
        "dtc = DecisionTreeClassifier()\n",
        "dtc.fit(X_train_1, y_train)"
      ],
      "execution_count": null,
      "outputs": [
        {
          "output_type": "execute_result",
          "data": {
            "text/plain": [
              "DecisionTreeClassifier()"
            ]
          },
          "metadata": {},
          "execution_count": 212
        }
      ]
    },
    {
      "cell_type": "code",
      "metadata": {
        "id": "68iPxZoZcl7D"
      },
      "source": [
        "#KFold CV\n",
        "def kfold_(dtc_, X_train_, y_train_):\n",
        "    cv = KFold(n_splits=10, random_state=1, shuffle=True)\n",
        "\n",
        "\n",
        "    scoring = {'accuracy' : make_scorer(accuracy_score), 'precision' : make_scorer(precision_score),'recall' : make_scorer(recall_score),'f1_score' : make_scorer(f1_score)}\n",
        "\n",
        "    # Model Evaluation\n",
        "    scores = cross_validate(dtc_, X_train_, y_train_, scoring=scoring, cv=cv)\n",
        "\n",
        "    # Model Scores\n",
        "    for k,v in scores.items():\n",
        "        print('Mean', k,':',' %.3f (%.3f)' % (np.mean(scores[k]), np.std(scores[k])))"
      ],
      "execution_count": null,
      "outputs": []
    },
    {
      "cell_type": "code",
      "metadata": {
        "colab": {
          "base_uri": "https://localhost:8080/"
        },
        "id": "NpQ9H_uHcmNU",
        "outputId": "059273c8-a0ab-4109-dd6a-978678ceb87d"
      },
      "source": [
        "kfold_(dtc,X_train_1,y_train)"
      ],
      "execution_count": null,
      "outputs": [
        {
          "output_type": "stream",
          "name": "stdout",
          "text": [
            "Mean fit_time :  0.028 (0.001)\n",
            "Mean score_time :  0.006 (0.001)\n",
            "Mean test_accuracy :  0.841 (0.010)\n",
            "Mean test_precision :  0.538 (0.069)\n",
            "Mean test_recall :  0.551 (0.044)\n",
            "Mean test_f1_score :  0.542 (0.042)\n"
          ]
        }
      ]
    },
    {
      "cell_type": "code",
      "metadata": {
        "colab": {
          "base_uri": "https://localhost:8080/",
          "height": 243
        },
        "id": "ZFd1EWz6dsdu",
        "outputId": "3806112d-cf9b-46d2-b9b9-d029270af185"
      },
      "source": [
        "#Drop Amount and Duration features to check if F1 score improves \n",
        "\n",
        "X_train_1.drop(columns=['Amount',\n",
        "                   'Duration'], inplace= True)\n",
        "X_train_1.head()"
      ],
      "execution_count": null,
      "outputs": [
        {
          "output_type": "execute_result",
          "data": {
            "text/html": [
              "<div>\n",
              "<style scoped>\n",
              "    .dataframe tbody tr th:only-of-type {\n",
              "        vertical-align: middle;\n",
              "    }\n",
              "\n",
              "    .dataframe tbody tr th {\n",
              "        vertical-align: top;\n",
              "    }\n",
              "\n",
              "    .dataframe thead th {\n",
              "        text-align: right;\n",
              "    }\n",
              "</style>\n",
              "<table border=\"1\" class=\"dataframe\">\n",
              "  <thead>\n",
              "    <tr style=\"text-align: right;\">\n",
              "      <th></th>\n",
              "      <th>PreviousDefault</th>\n",
              "      <th>NumberPets</th>\n",
              "      <th>PreviousAccounts</th>\n",
              "      <th>ResidenceDuration</th>\n",
              "      <th>Married</th>\n",
              "      <th>Female</th>\n",
              "      <th>Male</th>\n",
              "      <th>City_Cassandraton</th>\n",
              "      <th>City_East Jessetown</th>\n",
              "      <th>City_East Jill</th>\n",
              "      <th>City_Ericmouth</th>\n",
              "      <th>City_Herrerafurt</th>\n",
              "      <th>City_Jacquelineland</th>\n",
              "      <th>City_Lake Chad</th>\n",
              "      <th>City_Lake Debra</th>\n",
              "      <th>City_Lake Roberto</th>\n",
              "      <th>City_Lisatown</th>\n",
              "      <th>City_New Jessica</th>\n",
              "      <th>City_New Kellystad</th>\n",
              "      <th>City_New Roberttown</th>\n",
              "      <th>City_North Judithbury</th>\n",
              "      <th>City_North Noahstad</th>\n",
              "      <th>City_Port Jesseville</th>\n",
              "      <th>City_Port Keith</th>\n",
              "      <th>City_Ramirezstad</th>\n",
              "      <th>City_Robinsonshire</th>\n",
              "      <th>City_West Michael</th>\n",
              "      <th>Purpose_Business</th>\n",
              "      <th>Purpose_Education</th>\n",
              "      <th>Purpose_Household</th>\n",
              "      <th>Purpose_NewCar</th>\n",
              "      <th>Purpose_Other</th>\n",
              "      <th>Purpose_Repair</th>\n",
              "      <th>Purpose_UsedCar</th>\n",
              "      <th>Purpose_Vacation</th>\n",
              "      <th>Age</th>\n",
              "      <th>Family Members</th>\n",
              "      <th>Amt_Duration</th>\n",
              "    </tr>\n",
              "  </thead>\n",
              "  <tbody>\n",
              "    <tr>\n",
              "      <th>3897</th>\n",
              "      <td>0</td>\n",
              "      <td>2</td>\n",
              "      <td>0</td>\n",
              "      <td>2</td>\n",
              "      <td>0</td>\n",
              "      <td>0</td>\n",
              "      <td>1</td>\n",
              "      <td>0</td>\n",
              "      <td>0</td>\n",
              "      <td>0</td>\n",
              "      <td>0</td>\n",
              "      <td>0</td>\n",
              "      <td>0</td>\n",
              "      <td>0</td>\n",
              "      <td>0</td>\n",
              "      <td>0</td>\n",
              "      <td>0</td>\n",
              "      <td>0</td>\n",
              "      <td>0</td>\n",
              "      <td>1</td>\n",
              "      <td>0</td>\n",
              "      <td>0</td>\n",
              "      <td>0</td>\n",
              "      <td>0</td>\n",
              "      <td>0</td>\n",
              "      <td>0</td>\n",
              "      <td>0</td>\n",
              "      <td>0</td>\n",
              "      <td>0</td>\n",
              "      <td>1</td>\n",
              "      <td>0</td>\n",
              "      <td>0</td>\n",
              "      <td>0</td>\n",
              "      <td>0</td>\n",
              "      <td>0</td>\n",
              "      <td>51</td>\n",
              "      <td>3</td>\n",
              "      <td>39948</td>\n",
              "    </tr>\n",
              "    <tr>\n",
              "      <th>5628</th>\n",
              "      <td>0</td>\n",
              "      <td>0</td>\n",
              "      <td>2</td>\n",
              "      <td>2</td>\n",
              "      <td>0</td>\n",
              "      <td>1</td>\n",
              "      <td>0</td>\n",
              "      <td>0</td>\n",
              "      <td>0</td>\n",
              "      <td>0</td>\n",
              "      <td>1</td>\n",
              "      <td>0</td>\n",
              "      <td>0</td>\n",
              "      <td>0</td>\n",
              "      <td>0</td>\n",
              "      <td>0</td>\n",
              "      <td>0</td>\n",
              "      <td>0</td>\n",
              "      <td>0</td>\n",
              "      <td>0</td>\n",
              "      <td>0</td>\n",
              "      <td>0</td>\n",
              "      <td>0</td>\n",
              "      <td>0</td>\n",
              "      <td>0</td>\n",
              "      <td>0</td>\n",
              "      <td>0</td>\n",
              "      <td>0</td>\n",
              "      <td>0</td>\n",
              "      <td>1</td>\n",
              "      <td>0</td>\n",
              "      <td>0</td>\n",
              "      <td>0</td>\n",
              "      <td>0</td>\n",
              "      <td>0</td>\n",
              "      <td>57</td>\n",
              "      <td>1</td>\n",
              "      <td>107856</td>\n",
              "    </tr>\n",
              "    <tr>\n",
              "      <th>1756</th>\n",
              "      <td>0</td>\n",
              "      <td>2</td>\n",
              "      <td>0</td>\n",
              "      <td>3</td>\n",
              "      <td>0</td>\n",
              "      <td>1</td>\n",
              "      <td>0</td>\n",
              "      <td>0</td>\n",
              "      <td>0</td>\n",
              "      <td>1</td>\n",
              "      <td>0</td>\n",
              "      <td>0</td>\n",
              "      <td>0</td>\n",
              "      <td>0</td>\n",
              "      <td>0</td>\n",
              "      <td>0</td>\n",
              "      <td>0</td>\n",
              "      <td>0</td>\n",
              "      <td>0</td>\n",
              "      <td>0</td>\n",
              "      <td>0</td>\n",
              "      <td>0</td>\n",
              "      <td>0</td>\n",
              "      <td>0</td>\n",
              "      <td>0</td>\n",
              "      <td>0</td>\n",
              "      <td>0</td>\n",
              "      <td>0</td>\n",
              "      <td>0</td>\n",
              "      <td>0</td>\n",
              "      <td>1</td>\n",
              "      <td>0</td>\n",
              "      <td>0</td>\n",
              "      <td>0</td>\n",
              "      <td>0</td>\n",
              "      <td>46</td>\n",
              "      <td>3</td>\n",
              "      <td>59280</td>\n",
              "    </tr>\n",
              "    <tr>\n",
              "      <th>2346</th>\n",
              "      <td>0</td>\n",
              "      <td>2</td>\n",
              "      <td>1</td>\n",
              "      <td>2</td>\n",
              "      <td>0</td>\n",
              "      <td>1</td>\n",
              "      <td>0</td>\n",
              "      <td>0</td>\n",
              "      <td>0</td>\n",
              "      <td>0</td>\n",
              "      <td>0</td>\n",
              "      <td>0</td>\n",
              "      <td>0</td>\n",
              "      <td>0</td>\n",
              "      <td>1</td>\n",
              "      <td>0</td>\n",
              "      <td>0</td>\n",
              "      <td>0</td>\n",
              "      <td>0</td>\n",
              "      <td>0</td>\n",
              "      <td>0</td>\n",
              "      <td>0</td>\n",
              "      <td>0</td>\n",
              "      <td>0</td>\n",
              "      <td>0</td>\n",
              "      <td>0</td>\n",
              "      <td>0</td>\n",
              "      <td>0</td>\n",
              "      <td>0</td>\n",
              "      <td>0</td>\n",
              "      <td>0</td>\n",
              "      <td>0</td>\n",
              "      <td>0</td>\n",
              "      <td>1</td>\n",
              "      <td>0</td>\n",
              "      <td>44</td>\n",
              "      <td>3</td>\n",
              "      <td>112350</td>\n",
              "    </tr>\n",
              "    <tr>\n",
              "      <th>2996</th>\n",
              "      <td>0</td>\n",
              "      <td>0</td>\n",
              "      <td>1</td>\n",
              "      <td>3</td>\n",
              "      <td>0</td>\n",
              "      <td>0</td>\n",
              "      <td>1</td>\n",
              "      <td>0</td>\n",
              "      <td>0</td>\n",
              "      <td>0</td>\n",
              "      <td>0</td>\n",
              "      <td>0</td>\n",
              "      <td>0</td>\n",
              "      <td>0</td>\n",
              "      <td>0</td>\n",
              "      <td>0</td>\n",
              "      <td>0</td>\n",
              "      <td>0</td>\n",
              "      <td>0</td>\n",
              "      <td>0</td>\n",
              "      <td>1</td>\n",
              "      <td>0</td>\n",
              "      <td>0</td>\n",
              "      <td>0</td>\n",
              "      <td>0</td>\n",
              "      <td>0</td>\n",
              "      <td>0</td>\n",
              "      <td>0</td>\n",
              "      <td>0</td>\n",
              "      <td>0</td>\n",
              "      <td>0</td>\n",
              "      <td>0</td>\n",
              "      <td>0</td>\n",
              "      <td>0</td>\n",
              "      <td>1</td>\n",
              "      <td>45</td>\n",
              "      <td>1</td>\n",
              "      <td>127764</td>\n",
              "    </tr>\n",
              "  </tbody>\n",
              "</table>\n",
              "</div>"
            ],
            "text/plain": [
              "      PreviousDefault  NumberPets  ...  Family Members  Amt_Duration\n",
              "3897                0           2  ...               3         39948\n",
              "5628                0           0  ...               1        107856\n",
              "1756                0           2  ...               3         59280\n",
              "2346                0           2  ...               3        112350\n",
              "2996                0           0  ...               1        127764\n",
              "\n",
              "[5 rows x 38 columns]"
            ]
          },
          "metadata": {},
          "execution_count": 215
        }
      ]
    },
    {
      "cell_type": "code",
      "metadata": {
        "id": "bgXzSXwvdtFL"
      },
      "source": [
        "#Get 'Duration' and 'Amount' back in Training \n",
        "X_train_1['Duration'] = X_train.Duration\n",
        "X_train_1['Amount'] = X_train.Amount\n",
        "#Drop 'Amt_Duration' feature as it worsens the performance \n",
        "\n",
        "X_train_1.drop(columns=['Amt_Duration'], inplace= True)"
      ],
      "execution_count": null,
      "outputs": []
    },
    {
      "cell_type": "code",
      "metadata": {
        "colab": {
          "base_uri": "https://localhost:8080/",
          "height": 461
        },
        "id": "IgxdscsUdtkw",
        "outputId": "4aa39050-c13b-4a65-bc72-fc30e460846a"
      },
      "source": [
        "X_train_1"
      ],
      "execution_count": null,
      "outputs": [
        {
          "output_type": "execute_result",
          "data": {
            "text/html": [
              "<div>\n",
              "<style scoped>\n",
              "    .dataframe tbody tr th:only-of-type {\n",
              "        vertical-align: middle;\n",
              "    }\n",
              "\n",
              "    .dataframe tbody tr th {\n",
              "        vertical-align: top;\n",
              "    }\n",
              "\n",
              "    .dataframe thead th {\n",
              "        text-align: right;\n",
              "    }\n",
              "</style>\n",
              "<table border=\"1\" class=\"dataframe\">\n",
              "  <thead>\n",
              "    <tr style=\"text-align: right;\">\n",
              "      <th></th>\n",
              "      <th>PreviousDefault</th>\n",
              "      <th>NumberPets</th>\n",
              "      <th>PreviousAccounts</th>\n",
              "      <th>ResidenceDuration</th>\n",
              "      <th>Married</th>\n",
              "      <th>Female</th>\n",
              "      <th>Male</th>\n",
              "      <th>City_Cassandraton</th>\n",
              "      <th>City_East Jessetown</th>\n",
              "      <th>City_East Jill</th>\n",
              "      <th>City_Ericmouth</th>\n",
              "      <th>City_Herrerafurt</th>\n",
              "      <th>City_Jacquelineland</th>\n",
              "      <th>City_Lake Chad</th>\n",
              "      <th>City_Lake Debra</th>\n",
              "      <th>City_Lake Roberto</th>\n",
              "      <th>City_Lisatown</th>\n",
              "      <th>City_New Jessica</th>\n",
              "      <th>City_New Kellystad</th>\n",
              "      <th>City_New Roberttown</th>\n",
              "      <th>City_North Judithbury</th>\n",
              "      <th>City_North Noahstad</th>\n",
              "      <th>City_Port Jesseville</th>\n",
              "      <th>City_Port Keith</th>\n",
              "      <th>City_Ramirezstad</th>\n",
              "      <th>City_Robinsonshire</th>\n",
              "      <th>City_West Michael</th>\n",
              "      <th>Purpose_Business</th>\n",
              "      <th>Purpose_Education</th>\n",
              "      <th>Purpose_Household</th>\n",
              "      <th>Purpose_NewCar</th>\n",
              "      <th>Purpose_Other</th>\n",
              "      <th>Purpose_Repair</th>\n",
              "      <th>Purpose_UsedCar</th>\n",
              "      <th>Purpose_Vacation</th>\n",
              "      <th>Age</th>\n",
              "      <th>Family Members</th>\n",
              "      <th>Duration</th>\n",
              "      <th>Amount</th>\n",
              "    </tr>\n",
              "  </thead>\n",
              "  <tbody>\n",
              "    <tr>\n",
              "      <th>3897</th>\n",
              "      <td>0</td>\n",
              "      <td>2</td>\n",
              "      <td>0</td>\n",
              "      <td>2</td>\n",
              "      <td>0</td>\n",
              "      <td>0</td>\n",
              "      <td>1</td>\n",
              "      <td>0</td>\n",
              "      <td>0</td>\n",
              "      <td>0</td>\n",
              "      <td>0</td>\n",
              "      <td>0</td>\n",
              "      <td>0</td>\n",
              "      <td>0</td>\n",
              "      <td>0</td>\n",
              "      <td>0</td>\n",
              "      <td>0</td>\n",
              "      <td>0</td>\n",
              "      <td>0</td>\n",
              "      <td>1</td>\n",
              "      <td>0</td>\n",
              "      <td>0</td>\n",
              "      <td>0</td>\n",
              "      <td>0</td>\n",
              "      <td>0</td>\n",
              "      <td>0</td>\n",
              "      <td>0</td>\n",
              "      <td>0</td>\n",
              "      <td>0</td>\n",
              "      <td>1</td>\n",
              "      <td>0</td>\n",
              "      <td>0</td>\n",
              "      <td>0</td>\n",
              "      <td>0</td>\n",
              "      <td>0</td>\n",
              "      <td>51</td>\n",
              "      <td>3</td>\n",
              "      <td>12</td>\n",
              "      <td>3329</td>\n",
              "    </tr>\n",
              "    <tr>\n",
              "      <th>5628</th>\n",
              "      <td>0</td>\n",
              "      <td>0</td>\n",
              "      <td>2</td>\n",
              "      <td>2</td>\n",
              "      <td>0</td>\n",
              "      <td>1</td>\n",
              "      <td>0</td>\n",
              "      <td>0</td>\n",
              "      <td>0</td>\n",
              "      <td>0</td>\n",
              "      <td>1</td>\n",
              "      <td>0</td>\n",
              "      <td>0</td>\n",
              "      <td>0</td>\n",
              "      <td>0</td>\n",
              "      <td>0</td>\n",
              "      <td>0</td>\n",
              "      <td>0</td>\n",
              "      <td>0</td>\n",
              "      <td>0</td>\n",
              "      <td>0</td>\n",
              "      <td>0</td>\n",
              "      <td>0</td>\n",
              "      <td>0</td>\n",
              "      <td>0</td>\n",
              "      <td>0</td>\n",
              "      <td>0</td>\n",
              "      <td>0</td>\n",
              "      <td>0</td>\n",
              "      <td>1</td>\n",
              "      <td>0</td>\n",
              "      <td>0</td>\n",
              "      <td>0</td>\n",
              "      <td>0</td>\n",
              "      <td>0</td>\n",
              "      <td>57</td>\n",
              "      <td>1</td>\n",
              "      <td>36</td>\n",
              "      <td>2996</td>\n",
              "    </tr>\n",
              "    <tr>\n",
              "      <th>1756</th>\n",
              "      <td>0</td>\n",
              "      <td>2</td>\n",
              "      <td>0</td>\n",
              "      <td>3</td>\n",
              "      <td>0</td>\n",
              "      <td>1</td>\n",
              "      <td>0</td>\n",
              "      <td>0</td>\n",
              "      <td>0</td>\n",
              "      <td>1</td>\n",
              "      <td>0</td>\n",
              "      <td>0</td>\n",
              "      <td>0</td>\n",
              "      <td>0</td>\n",
              "      <td>0</td>\n",
              "      <td>0</td>\n",
              "      <td>0</td>\n",
              "      <td>0</td>\n",
              "      <td>0</td>\n",
              "      <td>0</td>\n",
              "      <td>0</td>\n",
              "      <td>0</td>\n",
              "      <td>0</td>\n",
              "      <td>0</td>\n",
              "      <td>0</td>\n",
              "      <td>0</td>\n",
              "      <td>0</td>\n",
              "      <td>0</td>\n",
              "      <td>0</td>\n",
              "      <td>0</td>\n",
              "      <td>1</td>\n",
              "      <td>0</td>\n",
              "      <td>0</td>\n",
              "      <td>0</td>\n",
              "      <td>0</td>\n",
              "      <td>46</td>\n",
              "      <td>3</td>\n",
              "      <td>24</td>\n",
              "      <td>2470</td>\n",
              "    </tr>\n",
              "    <tr>\n",
              "      <th>2346</th>\n",
              "      <td>0</td>\n",
              "      <td>2</td>\n",
              "      <td>1</td>\n",
              "      <td>2</td>\n",
              "      <td>0</td>\n",
              "      <td>1</td>\n",
              "      <td>0</td>\n",
              "      <td>0</td>\n",
              "      <td>0</td>\n",
              "      <td>0</td>\n",
              "      <td>0</td>\n",
              "      <td>0</td>\n",
              "      <td>0</td>\n",
              "      <td>0</td>\n",
              "      <td>1</td>\n",
              "      <td>0</td>\n",
              "      <td>0</td>\n",
              "      <td>0</td>\n",
              "      <td>0</td>\n",
              "      <td>0</td>\n",
              "      <td>0</td>\n",
              "      <td>0</td>\n",
              "      <td>0</td>\n",
              "      <td>0</td>\n",
              "      <td>0</td>\n",
              "      <td>0</td>\n",
              "      <td>0</td>\n",
              "      <td>0</td>\n",
              "      <td>0</td>\n",
              "      <td>0</td>\n",
              "      <td>0</td>\n",
              "      <td>0</td>\n",
              "      <td>0</td>\n",
              "      <td>1</td>\n",
              "      <td>0</td>\n",
              "      <td>44</td>\n",
              "      <td>3</td>\n",
              "      <td>30</td>\n",
              "      <td>3745</td>\n",
              "    </tr>\n",
              "    <tr>\n",
              "      <th>2996</th>\n",
              "      <td>0</td>\n",
              "      <td>0</td>\n",
              "      <td>1</td>\n",
              "      <td>3</td>\n",
              "      <td>0</td>\n",
              "      <td>0</td>\n",
              "      <td>1</td>\n",
              "      <td>0</td>\n",
              "      <td>0</td>\n",
              "      <td>0</td>\n",
              "      <td>0</td>\n",
              "      <td>0</td>\n",
              "      <td>0</td>\n",
              "      <td>0</td>\n",
              "      <td>0</td>\n",
              "      <td>0</td>\n",
              "      <td>0</td>\n",
              "      <td>0</td>\n",
              "      <td>0</td>\n",
              "      <td>0</td>\n",
              "      <td>1</td>\n",
              "      <td>0</td>\n",
              "      <td>0</td>\n",
              "      <td>0</td>\n",
              "      <td>0</td>\n",
              "      <td>0</td>\n",
              "      <td>0</td>\n",
              "      <td>0</td>\n",
              "      <td>0</td>\n",
              "      <td>0</td>\n",
              "      <td>0</td>\n",
              "      <td>0</td>\n",
              "      <td>0</td>\n",
              "      <td>0</td>\n",
              "      <td>1</td>\n",
              "      <td>45</td>\n",
              "      <td>1</td>\n",
              "      <td>36</td>\n",
              "      <td>3549</td>\n",
              "    </tr>\n",
              "    <tr>\n",
              "      <th>...</th>\n",
              "      <td>...</td>\n",
              "      <td>...</td>\n",
              "      <td>...</td>\n",
              "      <td>...</td>\n",
              "      <td>...</td>\n",
              "      <td>...</td>\n",
              "      <td>...</td>\n",
              "      <td>...</td>\n",
              "      <td>...</td>\n",
              "      <td>...</td>\n",
              "      <td>...</td>\n",
              "      <td>...</td>\n",
              "      <td>...</td>\n",
              "      <td>...</td>\n",
              "      <td>...</td>\n",
              "      <td>...</td>\n",
              "      <td>...</td>\n",
              "      <td>...</td>\n",
              "      <td>...</td>\n",
              "      <td>...</td>\n",
              "      <td>...</td>\n",
              "      <td>...</td>\n",
              "      <td>...</td>\n",
              "      <td>...</td>\n",
              "      <td>...</td>\n",
              "      <td>...</td>\n",
              "      <td>...</td>\n",
              "      <td>...</td>\n",
              "      <td>...</td>\n",
              "      <td>...</td>\n",
              "      <td>...</td>\n",
              "      <td>...</td>\n",
              "      <td>...</td>\n",
              "      <td>...</td>\n",
              "      <td>...</td>\n",
              "      <td>...</td>\n",
              "      <td>...</td>\n",
              "      <td>...</td>\n",
              "      <td>...</td>\n",
              "    </tr>\n",
              "    <tr>\n",
              "      <th>3772</th>\n",
              "      <td>0</td>\n",
              "      <td>0</td>\n",
              "      <td>1</td>\n",
              "      <td>1</td>\n",
              "      <td>1</td>\n",
              "      <td>1</td>\n",
              "      <td>0</td>\n",
              "      <td>0</td>\n",
              "      <td>0</td>\n",
              "      <td>0</td>\n",
              "      <td>0</td>\n",
              "      <td>0</td>\n",
              "      <td>0</td>\n",
              "      <td>0</td>\n",
              "      <td>0</td>\n",
              "      <td>0</td>\n",
              "      <td>0</td>\n",
              "      <td>0</td>\n",
              "      <td>0</td>\n",
              "      <td>0</td>\n",
              "      <td>0</td>\n",
              "      <td>0</td>\n",
              "      <td>0</td>\n",
              "      <td>0</td>\n",
              "      <td>0</td>\n",
              "      <td>1</td>\n",
              "      <td>0</td>\n",
              "      <td>0</td>\n",
              "      <td>0</td>\n",
              "      <td>0</td>\n",
              "      <td>1</td>\n",
              "      <td>0</td>\n",
              "      <td>0</td>\n",
              "      <td>0</td>\n",
              "      <td>0</td>\n",
              "      <td>48</td>\n",
              "      <td>2</td>\n",
              "      <td>24</td>\n",
              "      <td>3607</td>\n",
              "    </tr>\n",
              "    <tr>\n",
              "      <th>5191</th>\n",
              "      <td>0</td>\n",
              "      <td>2</td>\n",
              "      <td>1</td>\n",
              "      <td>0</td>\n",
              "      <td>0</td>\n",
              "      <td>1</td>\n",
              "      <td>0</td>\n",
              "      <td>0</td>\n",
              "      <td>0</td>\n",
              "      <td>0</td>\n",
              "      <td>0</td>\n",
              "      <td>0</td>\n",
              "      <td>0</td>\n",
              "      <td>0</td>\n",
              "      <td>0</td>\n",
              "      <td>0</td>\n",
              "      <td>0</td>\n",
              "      <td>0</td>\n",
              "      <td>0</td>\n",
              "      <td>0</td>\n",
              "      <td>1</td>\n",
              "      <td>0</td>\n",
              "      <td>0</td>\n",
              "      <td>0</td>\n",
              "      <td>0</td>\n",
              "      <td>0</td>\n",
              "      <td>0</td>\n",
              "      <td>0</td>\n",
              "      <td>0</td>\n",
              "      <td>0</td>\n",
              "      <td>1</td>\n",
              "      <td>0</td>\n",
              "      <td>0</td>\n",
              "      <td>0</td>\n",
              "      <td>0</td>\n",
              "      <td>47</td>\n",
              "      <td>3</td>\n",
              "      <td>30</td>\n",
              "      <td>3186</td>\n",
              "    </tr>\n",
              "    <tr>\n",
              "      <th>5226</th>\n",
              "      <td>0</td>\n",
              "      <td>2</td>\n",
              "      <td>1</td>\n",
              "      <td>3</td>\n",
              "      <td>1</td>\n",
              "      <td>1</td>\n",
              "      <td>0</td>\n",
              "      <td>0</td>\n",
              "      <td>0</td>\n",
              "      <td>0</td>\n",
              "      <td>0</td>\n",
              "      <td>0</td>\n",
              "      <td>0</td>\n",
              "      <td>0</td>\n",
              "      <td>0</td>\n",
              "      <td>1</td>\n",
              "      <td>0</td>\n",
              "      <td>0</td>\n",
              "      <td>0</td>\n",
              "      <td>0</td>\n",
              "      <td>0</td>\n",
              "      <td>0</td>\n",
              "      <td>0</td>\n",
              "      <td>0</td>\n",
              "      <td>0</td>\n",
              "      <td>0</td>\n",
              "      <td>0</td>\n",
              "      <td>1</td>\n",
              "      <td>0</td>\n",
              "      <td>0</td>\n",
              "      <td>0</td>\n",
              "      <td>0</td>\n",
              "      <td>0</td>\n",
              "      <td>0</td>\n",
              "      <td>0</td>\n",
              "      <td>52</td>\n",
              "      <td>4</td>\n",
              "      <td>36</td>\n",
              "      <td>2387</td>\n",
              "    </tr>\n",
              "    <tr>\n",
              "      <th>5390</th>\n",
              "      <td>0</td>\n",
              "      <td>1</td>\n",
              "      <td>1</td>\n",
              "      <td>3</td>\n",
              "      <td>0</td>\n",
              "      <td>1</td>\n",
              "      <td>0</td>\n",
              "      <td>0</td>\n",
              "      <td>0</td>\n",
              "      <td>0</td>\n",
              "      <td>0</td>\n",
              "      <td>0</td>\n",
              "      <td>0</td>\n",
              "      <td>0</td>\n",
              "      <td>1</td>\n",
              "      <td>0</td>\n",
              "      <td>0</td>\n",
              "      <td>0</td>\n",
              "      <td>0</td>\n",
              "      <td>0</td>\n",
              "      <td>0</td>\n",
              "      <td>0</td>\n",
              "      <td>0</td>\n",
              "      <td>0</td>\n",
              "      <td>0</td>\n",
              "      <td>0</td>\n",
              "      <td>0</td>\n",
              "      <td>0</td>\n",
              "      <td>0</td>\n",
              "      <td>0</td>\n",
              "      <td>0</td>\n",
              "      <td>1</td>\n",
              "      <td>0</td>\n",
              "      <td>0</td>\n",
              "      <td>0</td>\n",
              "      <td>54</td>\n",
              "      <td>2</td>\n",
              "      <td>12</td>\n",
              "      <td>3620</td>\n",
              "    </tr>\n",
              "    <tr>\n",
              "      <th>860</th>\n",
              "      <td>0</td>\n",
              "      <td>1</td>\n",
              "      <td>2</td>\n",
              "      <td>0</td>\n",
              "      <td>0</td>\n",
              "      <td>1</td>\n",
              "      <td>0</td>\n",
              "      <td>0</td>\n",
              "      <td>0</td>\n",
              "      <td>0</td>\n",
              "      <td>0</td>\n",
              "      <td>0</td>\n",
              "      <td>0</td>\n",
              "      <td>0</td>\n",
              "      <td>0</td>\n",
              "      <td>0</td>\n",
              "      <td>0</td>\n",
              "      <td>0</td>\n",
              "      <td>0</td>\n",
              "      <td>0</td>\n",
              "      <td>1</td>\n",
              "      <td>0</td>\n",
              "      <td>0</td>\n",
              "      <td>0</td>\n",
              "      <td>0</td>\n",
              "      <td>0</td>\n",
              "      <td>0</td>\n",
              "      <td>0</td>\n",
              "      <td>0</td>\n",
              "      <td>0</td>\n",
              "      <td>1</td>\n",
              "      <td>0</td>\n",
              "      <td>0</td>\n",
              "      <td>0</td>\n",
              "      <td>0</td>\n",
              "      <td>33</td>\n",
              "      <td>2</td>\n",
              "      <td>30</td>\n",
              "      <td>4106</td>\n",
              "    </tr>\n",
              "  </tbody>\n",
              "</table>\n",
              "<p>4800 rows × 39 columns</p>\n",
              "</div>"
            ],
            "text/plain": [
              "      PreviousDefault  NumberPets  ...  Duration  Amount\n",
              "3897                0           2  ...        12    3329\n",
              "5628                0           0  ...        36    2996\n",
              "1756                0           2  ...        24    2470\n",
              "2346                0           2  ...        30    3745\n",
              "2996                0           0  ...        36    3549\n",
              "...               ...         ...  ...       ...     ...\n",
              "3772                0           0  ...        24    3607\n",
              "5191                0           2  ...        30    3186\n",
              "5226                0           2  ...        36    2387\n",
              "5390                0           1  ...        12    3620\n",
              "860                 0           1  ...        30    4106\n",
              "\n",
              "[4800 rows x 39 columns]"
            ]
          },
          "metadata": {},
          "execution_count": 217
        }
      ]
    },
    {
      "cell_type": "code",
      "metadata": {
        "id": "4iYi9UqEemLx"
      },
      "source": [
        "#Applying Scaling\n",
        "from sklearn.preprocessing import StandardScaler\n",
        "X_train_scal = StandardScaler().fit_transform(X_train_1)"
      ],
      "execution_count": null,
      "outputs": []
    },
    {
      "cell_type": "code",
      "metadata": {
        "colab": {
          "base_uri": "https://localhost:8080/"
        },
        "id": "TvgVTy-0ftJa",
        "outputId": "5298f0cd-aba5-423b-d94a-09e15786fb8d"
      },
      "source": [
        "dtc.fit(X_train_scal, y_train)\n",
        "kfold_(dtc, X_train_scal,y_train)"
      ],
      "execution_count": null,
      "outputs": [
        {
          "output_type": "stream",
          "name": "stdout",
          "text": [
            "Mean fit_time :  0.021 (0.002)\n",
            "Mean score_time :  0.004 (0.000)\n",
            "Mean test_accuracy :  0.841 (0.017)\n",
            "Mean test_precision :  0.538 (0.055)\n",
            "Mean test_recall :  0.533 (0.036)\n",
            "Mean test_f1_score :  0.534 (0.034)\n"
          ]
        }
      ]
    },
    {
      "cell_type": "markdown",
      "metadata": {
        "id": "eQV9xKPFieKN"
      },
      "source": [
        "## *Final comment/observation on 3.2:*\n",
        "- Our baseline model had a F1 score of 0.374\n",
        "- With 'Age' feature our F1 score touched 0.535 \n",
        "- With 'Family Member' feature our F1 score touched 0.548\n",
        "- With 'Amt_Duration' feature our F1 score touched 0.542\n",
        "- With std scaling our F1 score touched 0.534"
      ]
    },
    {
      "cell_type": "markdown",
      "metadata": {
        "id": "PsdD0clko5pz"
      },
      "source": [
        "## 3.3: Feature selection"
      ]
    },
    {
      "cell_type": "code",
      "metadata": {
        "id": "742aYkYbprVD"
      },
      "source": [
        "#Adding \"Amt_Duration\" back in X_train_1\n",
        "X_train_1['Amt_Duration'] = X_train_1['Amount'] * X_train_1['Duration']"
      ],
      "execution_count": null,
      "outputs": []
    },
    {
      "cell_type": "code",
      "source": [
        "from sklearn.feature_selection import SelectKBest, chi2\n",
        "sel = SelectKBest(k=10)\n",
        "sel = sel.fit(X_train_1, y_train)\n",
        "\n",
        "X_train_fe = sel.transform(X_train_1)\n",
        "\n",
        "# Get columns to keep and create new dataframe with those only\n",
        "cols = sel.get_support(indices=True)\n",
        "X_train_fe_features = X_train_1.iloc[:,cols]\n",
        "\n",
        "dtc_clf = DecisionTreeClassifier(random_state=30)\n",
        "dtc_clf.fit(X_train_fe_features, y_train)\n"
      ],
      "metadata": {
        "colab": {
          "base_uri": "https://localhost:8080/"
        },
        "id": "EJh5StPmqo4I",
        "outputId": "e50a39eb-62e7-4d6d-94c3-8b924b698c5d"
      },
      "execution_count": null,
      "outputs": [
        {
          "output_type": "execute_result",
          "data": {
            "text/plain": [
              "DecisionTreeClassifier(random_state=30)"
            ]
          },
          "metadata": {},
          "execution_count": 221
        }
      ]
    },
    {
      "cell_type": "code",
      "source": [
        "X_train_fe_features.shape"
      ],
      "metadata": {
        "colab": {
          "base_uri": "https://localhost:8080/"
        },
        "id": "m3DAxFtC_9Di",
        "outputId": "764cdcf3-d424-4958-80a6-ab8a18d583e2"
      },
      "execution_count": null,
      "outputs": [
        {
          "output_type": "execute_result",
          "data": {
            "text/plain": [
              "(4800, 10)"
            ]
          },
          "metadata": {},
          "execution_count": 222
        }
      ]
    },
    {
      "cell_type": "code",
      "source": [
        "kfold_(dtc_clf, X_train_fe_features,y_train)"
      ],
      "metadata": {
        "colab": {
          "base_uri": "https://localhost:8080/"
        },
        "id": "J_5C8wKfrBUH",
        "outputId": "5ca541b9-ea45-4a3f-82b3-834ec27da587"
      },
      "execution_count": null,
      "outputs": [
        {
          "output_type": "stream",
          "name": "stdout",
          "text": [
            "Mean fit_time :  0.017 (0.002)\n",
            "Mean score_time :  0.006 (0.001)\n",
            "Mean test_accuracy :  0.836 (0.009)\n",
            "Mean test_precision :  0.525 (0.060)\n",
            "Mean test_recall :  0.520 (0.074)\n",
            "Mean test_f1_score :  0.517 (0.044)\n"
          ]
        }
      ]
    },
    {
      "cell_type": "code",
      "metadata": {
        "id": "rxX2ERqzpqxi"
      },
      "source": [
        "selected_features = X_train_fe_features.columns"
      ],
      "execution_count": null,
      "outputs": []
    },
    {
      "cell_type": "markdown",
      "metadata": {
        "id": "Ff4l2aNKo5fr"
      },
      "source": [
        "## 3.4: Hyperparameter tuning"
      ]
    },
    {
      "cell_type": "code",
      "metadata": {
        "id": "7XaxtTWMpIpP",
        "colab": {
          "base_uri": "https://localhost:8080/"
        },
        "outputId": "bec1b6c3-61e8-40d0-dd50-831e7451a29f"
      },
      "source": [
        "from sklearn.model_selection import GridSearchCV\n",
        "params = {'criterion': ('gini', 'entropy'), \n",
        "          'splitter': ('best', 'random'), \n",
        "          'class_weight': ('balanced', None), \n",
        "          'max_depth': [2, 5, 10, 20], \n",
        "          'min_samples_leaf': [1, 5, 10],\n",
        "          'max_features':[0.25, 0.5, 0.75, 1.0]} \n",
        "\n",
        "search = GridSearchCV(dtc_clf, params, scoring='f1_macro', cv=10, verbose=1).fit(X_train_fe_features, y_train)\n",
        "#search = search.fit(X_train_fe, y_train)\n"
      ],
      "execution_count": null,
      "outputs": [
        {
          "output_type": "stream",
          "name": "stdout",
          "text": [
            "Fitting 10 folds for each of 384 candidates, totalling 3840 fits\n"
          ]
        }
      ]
    },
    {
      "cell_type": "markdown",
      "source": [
        "## F1 score post tuning"
      ],
      "metadata": {
        "id": "OEnPwV8aGWU7"
      }
    },
    {
      "cell_type": "code",
      "source": [
        "print(search.best_score_)\n",
        "print(search.best_params_)"
      ],
      "metadata": {
        "colab": {
          "base_uri": "https://localhost:8080/"
        },
        "id": "7sfpWElDtz2Z",
        "outputId": "5d1498a0-1a07-4fff-be9b-a34c6c309eb7"
      },
      "execution_count": null,
      "outputs": [
        {
          "output_type": "stream",
          "name": "stdout",
          "text": [
            "0.7799651126915962\n",
            "{'class_weight': None, 'criterion': 'entropy', 'max_depth': 10, 'max_features': 1.0, 'min_samples_leaf': 10, 'splitter': 'random'}\n"
          ]
        }
      ]
    },
    {
      "cell_type": "markdown",
      "metadata": {
        "id": "Te9gGGLEpXRG"
      },
      "source": [
        "## 3.5: Performance estimation"
      ]
    },
    {
      "cell_type": "code",
      "metadata": {
        "id": "YV_35bEupbfs"
      },
      "source": [
        "#Preprocessing on Test set \n",
        "\n",
        "#Make a Copy of Training Set\n",
        "X_test_1 = X_test.copy() \n",
        "\n",
        "X_test_1.drop(columns=['UserID',\n",
        "                   'FirstName',\n",
        "                   'LastName',\n",
        "                   'Street',\n",
        "                   'LicensePlate',\n",
        "                  'DateOfBirth'], inplace= True)\n",
        "\n",
        "#Encoding on Sex\n",
        "dummy = pd.get_dummies(X_test_1['Sex'])\n",
        "dummy.head()\n",
        "\n",
        "X_test_1 = X_test_1.merge(dummy, left_index=True, right_index=True)\n",
        "X_test_1.head()\n",
        "\n",
        "#Rename F & M\n",
        "X_test_1 = X_test_1.rename(columns={'F': 'Female', 'M': 'Male'})\n",
        "X_test_1.head()\n",
        "\n",
        "#Drop Sex from the training set\n",
        "X_test_1.drop(columns=['Sex'], inplace= True)\n",
        "\n",
        "#Create dummy variables for City & Purpose \n",
        "X_test_1 = pd.get_dummies(X_test_1)\n",
        "\n",
        "#Get 'DOB' back in Training \n",
        "X_test_1['DateOfBirth'] = pd.to_datetime(X_test.DateOfBirth)\n",
        "\n",
        "X_test_1['Age'] = X_test_1['DateOfBirth'].apply(lambda x: today.year - x.year - ((today.month, today.day) < (x.month, x.day)))\n",
        "X_test_1 = X_test_1.drop(['DateOfBirth'], axis=1)\n",
        "\n",
        "#Considering Pet/s as one of the Family Member; taking +1 for being married \n",
        "X_test_1['Family Members'] = X_test_1['NumberPets'] + 1 + X_test_1['Married']\n",
        "\n",
        "#Amount & Duration Feature \n",
        "X_test_1['Amt_Duration'] = X_test_1['Amount'] * X_test_1['Duration']\n"
      ],
      "execution_count": null,
      "outputs": []
    },
    {
      "cell_type": "code",
      "source": [
        "X_test_final = X_test_1[selected_features]"
      ],
      "metadata": {
        "id": "NTRd1nx8_AsH"
      },
      "execution_count": null,
      "outputs": []
    },
    {
      "cell_type": "code",
      "source": [
        "y_pred = search.best_estimator_.predict(X_test_final)"
      ],
      "metadata": {
        "id": "yyjSVjrc0CJI"
      },
      "execution_count": null,
      "outputs": []
    },
    {
      "cell_type": "markdown",
      "source": [
        "## Final Prediction on test set"
      ],
      "metadata": {
        "id": "CctKLBjOF6dN"
      }
    },
    {
      "cell_type": "code",
      "source": [
        "from sklearn.metrics import classification_report\n",
        "print(classification_report(y_test, y_pred))"
      ],
      "metadata": {
        "colab": {
          "base_uri": "https://localhost:8080/"
        },
        "id": "-IfcLhjcBSVi",
        "outputId": "082d5a73-1248-4139-dfcf-60dd9b19cd33"
      },
      "execution_count": null,
      "outputs": [
        {
          "output_type": "stream",
          "name": "stdout",
          "text": [
            "              precision    recall  f1-score   support\n",
            "\n",
            "           0       0.93      0.94      0.93       991\n",
            "           1       0.70      0.66      0.68       209\n",
            "\n",
            "    accuracy                           0.89      1200\n",
            "   macro avg       0.82      0.80      0.81      1200\n",
            "weighted avg       0.89      0.89      0.89      1200\n",
            "\n"
          ]
        }
      ]
    },
    {
      "cell_type": "markdown",
      "metadata": {
        "id": "bPiErnUaTQSk"
      },
      "source": [
        "# Question 4: Uncle Steve's Wind Farm"
      ]
    },
    {
      "cell_type": "markdown",
      "metadata": {
        "id": "NzLLQCmKTk9E"
      },
      "source": [
        "## Instructions\n",
        "\n",
        "\n",
        "Uncle Steve has invested in wind. He's built a BIG wind farm with a total of  700 turbines. He's been running the farm for a couple of years now and things are going well. He sells the power generated by the farm to the Kingston government and makes a tidy profit. And, of course, he has been gathering data about the turbines' operations.\n",
        "\n",
        "One area of concern, however, is the cost of maintenece. While the turbines are fairly robust, it seems like one breaks/fails every couple of days. When a turbine fails, it usually costs around \\$20,000 to repair it. Yikes!\n",
        "\n",
        "Currently, Uncle Steve is not doing any preventative maintenance. He just waits until a turbine fails, and then he fixes it. But Uncle Steve has recently learned that if he services a turbine *before* it fails, it will only cost around $2,000. \n",
        "\n",
        "Obviously, there is a potential to save a lot of money here. But first, Uncle Steve would need to figure out *which* turbines are about to fail. Uncle Steve being Uncle Steve, he wants to use ML to build a predictive maintenance model. The model will alert Uncle Steve to potential turbine failures before they happen, giving Uncle Steve a chance to perform an inspection on the turbine and then fix the turbine before it fails. Uncle Steve plans to run the model every morning. For all the turbines that the model predicts will fail, Uncle Steve will order an inspection (which cost a flat \\$500, no matter if the turbine was in good health or not; the \\$500 would not be part of the $2,000 service cost). For the rest of the turbines, Uncle Steve will do nothing.\n",
        "\n",
        "Uncle Steve has used the last few year's worth of operation data to build and assess a model to predict which turbines will fail on any given day. (The data includes useful features like sensor readings, power output, weather, and many more, but those are not important for now.) In fact, he didn't stop there: he built and assessed two models. One model uses using deep learning (in this case, RNNs), and the other uses random forests.\n",
        "\n",
        "He's tuned the bejeebers out of each model and is comfortable that he has found the best-performing version of each. Both models seem really good: both have accuracy scores > 99%. The RNN has better recall, but Uncle Steve is convinced that the random forest model will be better for him since it has better precision. Just to be sure, he has hired you to double check his calculations. \n",
        "\n",
        "**Your task**\n",
        "\n",
        " Which model will save Uncle Steve more money? Justify.\n",
        "\n",
        "\n",
        "In addition to the details above, here is the assessment of each model:\n",
        "\n",
        "- Confusion matrix for the random forest:\n",
        "\n",
        "|         | Predicted Fail           | Predicted No Fail  |\n",
        "| ------------- |------------| -----:|\n",
        "| **Actual Fail**      | 201 | 55 |\n",
        "| **Actual No Fail**   | 50 | 255195 |\n",
        "\n",
        "- Confusion matrix for the RNN:\n",
        "\n",
        "|         | Predicted Fail           | Predicted No Fail  |\n",
        "| ------------- |------------| -----:|\n",
        "| **Actual Fail**      | 226 | 30 |\n",
        "| **Actual No Fail**   | 1200 | 254045 |\n",
        "\n",
        "\n",
        "**Marking**\n",
        "\n",
        "- *Quality*. Response is well-justified and convincing. \n",
        "- *Style*. Response uses proper grammar, spelling, and punctuation. Response is clear and professional. Response is complete, but not overly-verbose. Response follows length guidelines.\n",
        "\n",
        "\n",
        "\n",
        "**Tips**\n",
        "\n",
        "- Figure out how much Uncle Steve is currently (i.e., without any predictive maintinance models) paying in maintenance costs.\n",
        "- Use the information provided above to create a cost matrix.\n",
        "- Use the cost matrix and the confusion matrices to determine the costs of each model.\n",
        "- The cost of an inspection is the same, no matter if the turbine is in good condition or is about to fail.\n",
        "- If the inspection determines that a turbine is about to fail, then it will be fixed right then and there for the additional fee.\n",
        "- For simplicity, assume the inspections are perfect: i.e., that inspecting a turbine will definitely catch any problems that might exist, and won't accidentally flag an otherwise-healthy turbine.\n",
        "\n"
      ]
    },
    {
      "cell_type": "markdown",
      "source": [
        "If Uncle Steve doesnt use any model then he will have to inspect each turbine everyday and repair the ones which is likely to fail, so that he saves on 20000 repair cost on each turbine. In such a case, he will end up spending CAD 13.26 Million on this activity. \n",
        "\n",
        "![image.png](data:image/png;base64,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)\n",
        "\n",
        "\n",
        "\n",
        "Summary of costs per unit for both models: \n",
        "- Per unit cost to repair Actual Fail and Predicted Fail will be 2000 repair + 500 for inspection = CAD 2500\n",
        "- Per unit cost to repair ones which were actual faulty, but were predicted No Fail will cost Uncle Steve $20000 as these are not predicted correctly \n",
        "- Per unit cost to inspect predicted No Fail, but in reality they were good will cost Uncle Steve only the inspection cost of CAD 500 \n",
        "\n",
        "With Model 1 (RF): Uncle Steve will spend CAD 1.63 Million. \n",
        "![image.png](data:image/png;base64,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)\n",
        "\n",
        "With Model 2 (RNN): Uncle Steve will spend CAD 1.77 Million \n",
        "![image.png](data:image/png;base64,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)\n",
        "\n",
        "**Summary: RF Model will cost Uncle Steve less cost with a savings of CAD 137,500 versus RNN Model -> 1,765,000 - 1,627,500**\n",
        "\n"
      ],
      "metadata": {
        "id": "YHMWyyhH_1Jo"
      }
    }
  ]
}